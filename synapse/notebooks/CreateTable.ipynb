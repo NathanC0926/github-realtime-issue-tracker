{
 "cells": [
  {
   "cell_type": "code",
   "execution_count": 10,
   "id": "04b15107-82b1-42b2-999b-024e859e410a",
   "metadata": {},
   "outputs": [
    {
     "name": "stdout",
     "output_type": "stream",
     "text": [
      "The sparksql_magic extension is already loaded. To reload it, use:\n",
      "  %reload_ext sparksql_magic\n"
     ]
    },
    {
     "name": "stderr",
     "output_type": "stream",
     "text": [
      "25/03/17 06:43:20 WARN Utils: Service 'SparkUI' could not bind on port 4040. Attempting port 4041.\n"
     ]
    }
   ],
   "source": [
    "%load_ext sparksql_magic\n",
    "from pyspark.sql import SparkSession\n",
    "from pyspark.sql.functions import expr, col\n",
    "\n",
    "spark = SparkSession.builder.appName(\"CreateTable\").getOrCreate()"
   ]
  },
  {
   "cell_type": "markdown",
   "id": "81502b47-ebda-4d0d-89fb-f57e32a9f4de",
   "metadata": {},
   "source": [
    "## 🌊🐳🧊 Example of creating an Iceberg Table"
   ]
  },
  {
   "cell_type": "code",
   "execution_count": 2,
   "id": "713df221-b8d4-48bb-8d6a-1ce9dd76f835",
   "metadata": {},
   "outputs": [
    {
     "name": "stderr",
     "output_type": "stream",
     "text": [
      "25/03/17 06:10:52 WARN SparkSession: Using an existing Spark session; only runtime SQL configurations will take effect.\n"
     ]
    },
    {
     "data": {
      "text/html": [
       "<table>\n",
       "    <thead>\n",
       "        <tr>\n",
       "        </tr>\n",
       "    </thead>\n",
       "    <tbody>\n",
       "    </tbody>\n",
       "</table>"
      ],
      "text/plain": [
       "++\n",
       "||\n",
       "++\n",
       "++"
      ]
     },
     "execution_count": 2,
     "metadata": {},
     "output_type": "execute_result"
    }
   ],
   "source": [
    "%%sql\n",
    "CREATE TABLE\n",
    "  IF NOT EXISTS iceberg.dim_repo (id BIGINT, name STRING, url STRING) USING ICEBERG"
   ]
  },
  {
   "cell_type": "code",
   "execution_count": 3,
   "id": "20340439-9c34-4c1b-b53a-7f70522c1b73",
   "metadata": {},
   "outputs": [
    {
     "data": {
      "text/html": [
       "<table>\n",
       "    <thead>\n",
       "        <tr>\n",
       "        </tr>\n",
       "    </thead>\n",
       "    <tbody>\n",
       "    </tbody>\n",
       "</table>"
      ],
      "text/plain": [
       "++\n",
       "||\n",
       "++\n",
       "++"
      ]
     },
     "execution_count": 3,
     "metadata": {},
     "output_type": "execute_result"
    }
   ],
   "source": [
    "%%sql\n",
    "CREATE TABLE\n",
    "  IF NOT EXISTS iceberg.dim_org (id BIGINT, name STRING, url STRING) USING ICEBERG"
   ]
  },
  {
   "cell_type": "markdown",
   "id": "8f11b8d2-194b-4e58-bfdb-7e431a30f2eb",
   "metadata": {},
   "source": [
    "## event tables TBD"
   ]
  },
  {
   "cell_type": "code",
   "execution_count": 4,
   "id": "a79ddae1-c2e1-4cff-8587-3baefea94ade",
   "metadata": {},
   "outputs": [
    {
     "data": {
      "text/html": [
       "<table>\n",
       "    <thead>\n",
       "        <tr>\n",
       "        </tr>\n",
       "    </thead>\n",
       "    <tbody>\n",
       "    </tbody>\n",
       "</table>"
      ],
      "text/plain": [
       "++\n",
       "||\n",
       "++\n",
       "++"
      ]
     },
     "execution_count": 4,
     "metadata": {},
     "output_type": "execute_result"
    }
   ],
   "source": [
    "%%sql\n",
    "CREATE TABLE\n",
    "  IF NOT EXISTS iceberg.fct_issue_events (\n",
    "    event_id BIGINT, -- Unique event identifier (PK)\n",
    "    action STRING, -- Type of action (opened, closed, reopened)\n",
    "    issue_id BIGINT, -- FK to Issues dimension\n",
    "    user_id BIGINT, -- FK to Users dimension\n",
    "    org_id BIGINT, -- FK to Organizations dimension\n",
    "    created_at TIMESTAMP -- When the event occurred\n",
    "  ) USING ICEBERG PARTITIONED BY (action);"
   ]
  },
  {
   "cell_type": "markdown",
   "id": "6e0e6e95-2997-41ed-8731-2bf2351a886b",
   "metadata": {},
   "source": [
    "## dim issues should store data related to issues that is immutable"
   ]
  },
  {
   "cell_type": "code",
   "execution_count": 5,
   "id": "836b6d21-f58b-4688-988b-5ca17f181e8b",
   "metadata": {},
   "outputs": [
    {
     "data": {
      "text/html": [
       "<table>\n",
       "    <thead>\n",
       "        <tr>\n",
       "        </tr>\n",
       "    </thead>\n",
       "    <tbody>\n",
       "    </tbody>\n",
       "</table>"
      ],
      "text/plain": [
       "++\n",
       "||\n",
       "++\n",
       "++"
      ]
     },
     "execution_count": 5,
     "metadata": {},
     "output_type": "execute_result"
    }
   ],
   "source": [
    "%%sql\n",
    "CREATE TABLE IF NOT EXISTS iceberg.fct_issue_event (\n",
    "  -- Primary Key & Event Type\n",
    "  event_id BIGINT COMMENT 'Unique identifier for the event',\n",
    "  action STRING COMMENT 'Type of issue event (created, closed, reopened)',\n",
    "\n",
    "  -- Issue Metadata\n",
    "  issue_title STRING COMMENT 'Title of the issue',\n",
    "  issue_body STRING COMMENT 'Detailed description of the issue',\n",
    "  author_association STRING COMMENT 'Association of the issue creator with the repository',\n",
    "  issue_state STRING COMMENT 'Current state of the issue (open, closed)',\n",
    "  issue_state_reason STRING COMMENT 'Reason why the issue was closed, if applicable',\n",
    "\n",
    "  -- Issue Creator (STRUCT)\n",
    "  issue_creator STRUCT<\n",
    "    id: BIGINT COMMENT 'Unique user ID',\n",
    "    login: STRING COMMENT 'GitHub username of the issue creator',\n",
    "    url: STRING COMMENT 'API URL of the user',\n",
    "    is_bot: INT COMMENT '1 if the user is a bot, 0 otherwise'\n",
    "  > COMMENT 'Details of the issue creator',\n",
    "\n",
    "  -- Other Issue Attributes\n",
    "  issue_comment_count BIGINT COMMENT 'Total number of comments on the issue',\n",
    "  num_assignees INT COMMENT 'Number of assignees for the issue',\n",
    "\n",
    "  -- Labels (Stored as an Array of Structs)\n",
    "  labels ARRAY<STRUCT<\n",
    "    color: STRING COMMENT 'Hex color of the label',\n",
    "    default: BOOLEAN COMMENT 'TRUE if this is a default GitHub label',\n",
    "    description: STRING COMMENT 'Label description',\n",
    "    id: BIGINT COMMENT 'Unique label ID',\n",
    "    name: STRING COMMENT 'Label name',\n",
    "    node_id: STRING COMMENT 'GraphQL node ID',\n",
    "    url: STRING COMMENT 'API URL for the label'\n",
    "  >> COMMENT 'Labels assigned to the issue',\n",
    "\n",
    "  -- Milestone (STRUCT)\n",
    "  milestone STRUCT<\n",
    "    id: BIGINT COMMENT 'Unique milestone ID',\n",
    "    title: STRING COMMENT 'Milestone title',\n",
    "    description: STRING COMMENT 'Milestone description',\n",
    "    state: STRING COMMENT 'State of the milestone (open, closed)',\n",
    "    closed_issues: BIGINT COMMENT 'Number of closed issues in the milestone',\n",
    "    open_issues: BIGINT COMMENT 'Number of open issues in the milestone',\n",
    "    due_on: TIMESTAMP COMMENT 'Milestone deadline (if available)',\n",
    "    created_at: TIMESTAMP COMMENT 'Timestamp when milestone was created',\n",
    "    updated_at: TIMESTAMP COMMENT 'Timestamp when milestone was last updated',\n",
    "    closed_at: TIMESTAMP COMMENT 'Timestamp when milestone was closed'\n",
    "  > COMMENT 'Details of the milestone associated with the issue',\n",
    "\n",
    "  -- Timestamps (Time-Based Features)\n",
    "  issue_created_at TIMESTAMP COMMENT 'Timestamp when the issue was created',\n",
    "  issue_closed_at TIMESTAMP COMMENT 'Timestamp when the issue was closed',\n",
    "  issue_updated_at TIMESTAMP COMMENT 'Timestamp when the issue was last updated',\n",
    "  event_created_at TIMESTAMP COMMENT 'Timestamp when the event occurred (not real event time)',\n",
    "\n",
    "  -- Foreign Keys (For Joins)\n",
    "  issue_id BIGINT COMMENT 'Foreign key to Issues table',\n",
    "  user_id BIGINT COMMENT 'Foreign key to Users table (actor.id)',\n",
    "  org_id BIGINT COMMENT 'Foreign key to Organizations table'\n",
    ")\n",
    "USING ICEBERG\n",
    "PARTITIONED BY (action)\n",
    "COMMENT 'Fact table for GitHub issue event tracking';"
   ]
  },
  {
   "cell_type": "code",
   "execution_count": 11,
   "id": "b8bdefc0-0050-415a-af04-d715157f83e7",
   "metadata": {},
   "outputs": [
    {
     "name": "stderr",
     "output_type": "stream",
     "text": [
      "25/03/17 06:43:38 WARN SparkSession: Using an existing Spark session; only runtime SQL configurations will take effect.\n"
     ]
    },
    {
     "data": {
      "text/html": [
       "<table>\n",
       "    <thead>\n",
       "        <tr>\n",
       "            <th>table_size_gb</th>\n",
       "        </tr>\n",
       "    </thead>\n",
       "    <tbody>\n",
       "        <tr>\n",
       "            <td>9.669650360941887</td>\n",
       "        </tr>\n",
       "    </tbody>\n",
       "</table>"
      ],
      "text/plain": [
       "+-------------------+\n",
       "|     table_size_gb |\n",
       "+-------------------+\n",
       "| 9.669650360941887 |\n",
       "+-------------------+"
      ]
     },
     "execution_count": 11,
     "metadata": {},
     "output_type": "execute_result"
    }
   ],
   "source": [
    "%%sql \n",
    "SELECT\n",
    "  (SUM(file_size_in_bytes) / (1024 * 1024 * 1024)) * 12 AS table_size_gb\n",
    "FROM\n",
    "  iceberg.fct_issue_event.files\n",
    "  -- iceburg.fct_issue_event"
   ]
  },
  {
   "cell_type": "code",
   "execution_count": 7,
   "id": "d38291f7-0ba7-4b55-8247-5c600c02fdf9",
   "metadata": {},
   "outputs": [],
   "source": [
    "#%%sql \n",
    "#DROP TABLE iceberg.fct_issue_event;\n"
   ]
  },
  {
   "cell_type": "code",
   "execution_count": 8,
   "id": "8a18857f-ff75-40c2-96af-a8f9c43bc587",
   "metadata": {},
   "outputs": [
    {
     "data": {
      "text/html": [
       "<table>\n",
       "    <thead>\n",
       "        <tr>\n",
       "            <th>table_size_gb</th>\n",
       "        </tr>\n",
       "    </thead>\n",
       "    <tbody>\n",
       "        <tr>\n",
       "            <td>None</td>\n",
       "        </tr>\n",
       "    </tbody>\n",
       "</table>"
      ],
      "text/plain": [
       "+---------------+\n",
       "| table_size_gb |\n",
       "+---------------+\n",
       "|          None |\n",
       "+---------------+"
      ]
     },
     "execution_count": 8,
     "metadata": {},
     "output_type": "execute_result"
    }
   ],
   "source": [
    "%%sql \n",
    "SELECT\n",
    "  (SUM(file_size_in_bytes) / (1024 * 1024 * 1024)) * 12 AS table_size_gb\n",
    "FROM\n",
    "  iceberg.dim_repo.files"
   ]
  },
  {
   "cell_type": "code",
   "execution_count": null,
   "id": "0db76714-32aa-46e1-bb71-1ff87a51d697",
   "metadata": {},
   "outputs": [],
   "source": []
  }
 ],
 "metadata": {
  "kernelspec": {
   "display_name": "Python 3 (ipykernel)",
   "language": "python",
   "name": "python3"
  },
  "language_info": {
   "codemirror_mode": {
    "name": "ipython",
    "version": 3
   },
   "file_extension": ".py",
   "mimetype": "text/x-python",
   "name": "python",
   "nbconvert_exporter": "python",
   "pygments_lexer": "ipython3",
   "version": "3.10.16"
  }
 },
 "nbformat": 4,
 "nbformat_minor": 5
}
