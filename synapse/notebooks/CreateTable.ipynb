{
 "cells": [
  {
   "cell_type": "code",
   "execution_count": 1,
   "id": "04b15107-82b1-42b2-999b-024e859e410a",
   "metadata": {},
   "outputs": [
    {
     "name": "stderr",
     "output_type": "stream",
     "text": [
      "Setting default log level to \"WARN\".\n",
      "To adjust logging level use sc.setLogLevel(newLevel). For SparkR, use setLogLevel(newLevel).\n",
      "25/03/11 18:13:44 WARN NativeCodeLoader: Unable to load native-hadoop library for your platform... using builtin-java classes where applicable\n"
     ]
    }
   ],
   "source": [
    "%load_ext sparksql_magic\n",
    "from pyspark.sql import SparkSession\n",
    "from pyspark.sql.functions import expr, col\n",
    "\n",
    "spark = SparkSession.builder.appName(\"CreateTable\").getOrCreate()"
   ]
  },
  {
   "cell_type": "markdown",
   "id": "81502b47-ebda-4d0d-89fb-f57e32a9f4de",
   "metadata": {},
   "source": [
    "## 🌊🐳🧊 Example of creating an Iceberg Table"
   ]
  },
  {
   "cell_type": "code",
   "execution_count": 7,
   "id": "475f4c43-ff9f-4ae3-9f32-5f05574e35e2",
   "metadata": {},
   "outputs": [
    {
     "data": {
      "text/html": [
       "<table>\n",
       "    <thead>\n",
       "        <tr>\n",
       "        </tr>\n",
       "    </thead>\n",
       "    <tbody>\n",
       "    </tbody>\n",
       "</table>"
      ],
      "text/plain": [
       "++\n",
       "||\n",
       "++\n",
       "++"
      ]
     },
     "execution_count": 7,
     "metadata": {},
     "output_type": "execute_result"
    }
   ],
   "source": [
    "%%sql\n",
    "CREATE TABLE IF NOT EXISTS iceberg.github_issues (\n",
    "    actor STRING,\n",
    "    created_at TIMESTAMP,\n",
    "    event_id STRING,\n",
    "    org STRING,\n",
    "    action STRING,\n",
    "    issue STRING\n",
    ") USING ICEBERG\n",
    "PARTITIONED BY (days(created_at));"
   ]
  },
  {
   "cell_type": "code",
   "execution_count": 10,
   "id": "fd22d160-1f66-4287-beef-79e61fe94348",
   "metadata": {},
   "outputs": [
    {
     "data": {
      "text/html": [
       "<table>\n",
       "    <thead>\n",
       "        <tr>\n",
       "            <th>col_name</th>\n",
       "            <th>data_type</th>\n",
       "            <th>comment</th>\n",
       "        </tr>\n",
       "    </thead>\n",
       "    <tbody>\n",
       "        <tr>\n",
       "            <td>actor</td>\n",
       "            <td>string</td>\n",
       "            <td>None</td>\n",
       "        </tr>\n",
       "        <tr>\n",
       "            <td>created_at</td>\n",
       "            <td>timestamp</td>\n",
       "            <td>None</td>\n",
       "        </tr>\n",
       "        <tr>\n",
       "            <td>event_id</td>\n",
       "            <td>string</td>\n",
       "            <td>None</td>\n",
       "        </tr>\n",
       "        <tr>\n",
       "            <td>org</td>\n",
       "            <td>string</td>\n",
       "            <td>None</td>\n",
       "        </tr>\n",
       "        <tr>\n",
       "            <td>action</td>\n",
       "            <td>string</td>\n",
       "            <td>None</td>\n",
       "        </tr>\n",
       "        <tr>\n",
       "            <td>issue</td>\n",
       "            <td>string</td>\n",
       "            <td>None</td>\n",
       "        </tr>\n",
       "        <tr>\n",
       "            <td></td>\n",
       "            <td></td>\n",
       "            <td></td>\n",
       "        </tr>\n",
       "        <tr>\n",
       "            <td># Partitioning</td>\n",
       "            <td></td>\n",
       "            <td></td>\n",
       "        </tr>\n",
       "        <tr>\n",
       "            <td>Part 0</td>\n",
       "            <td>days(created_at)</td>\n",
       "            <td></td>\n",
       "        </tr>\n",
       "    </tbody>\n",
       "</table>"
      ],
      "text/plain": [
       "+----------------+------------------+---------+\n",
       "|       col_name |        data_type | comment |\n",
       "+----------------+------------------+---------+\n",
       "|          actor |           string |    None |\n",
       "|     created_at |        timestamp |    None |\n",
       "|       event_id |           string |    None |\n",
       "|            org |           string |    None |\n",
       "|         action |           string |    None |\n",
       "|          issue |           string |    None |\n",
       "|                |                  |         |\n",
       "| # Partitioning |                  |         |\n",
       "|         Part 0 | days(created_at) |         |\n",
       "+----------------+------------------+---------+"
      ]
     },
     "execution_count": 10,
     "metadata": {},
     "output_type": "execute_result"
    }
   ],
   "source": [
    "%%sql\n",
    "DESCRIBE TABLE iceberg.github_issues;"
   ]
  },
  {
   "cell_type": "code",
   "execution_count": 15,
   "id": "8cf87fc6-f34b-4bf7-9e81-e11492d6b3cd",
   "metadata": {},
   "outputs": [
    {
     "data": {
      "text/html": [
       "<table>\n",
       "    <thead>\n",
       "        <tr>\n",
       "            <th>col_name</th>\n",
       "            <th>data_type</th>\n",
       "            <th>comment</th>\n",
       "        </tr>\n",
       "    </thead>\n",
       "    <tbody>\n",
       "        <tr>\n",
       "            <td>actor</td>\n",
       "            <td>string</td>\n",
       "            <td>None</td>\n",
       "        </tr>\n",
       "        <tr>\n",
       "            <td>created_at</td>\n",
       "            <td>timestamp</td>\n",
       "            <td>None</td>\n",
       "        </tr>\n",
       "        <tr>\n",
       "            <td>event_id</td>\n",
       "            <td>string</td>\n",
       "            <td>None</td>\n",
       "        </tr>\n",
       "        <tr>\n",
       "            <td>org</td>\n",
       "            <td>string</td>\n",
       "            <td>None</td>\n",
       "        </tr>\n",
       "        <tr>\n",
       "            <td>action</td>\n",
       "            <td>string</td>\n",
       "            <td>None</td>\n",
       "        </tr>\n",
       "        <tr>\n",
       "            <td>issue</td>\n",
       "            <td>string</td>\n",
       "            <td>None</td>\n",
       "        </tr>\n",
       "        <tr>\n",
       "            <td></td>\n",
       "            <td></td>\n",
       "            <td></td>\n",
       "        </tr>\n",
       "        <tr>\n",
       "            <td># Partitioning</td>\n",
       "            <td></td>\n",
       "            <td></td>\n",
       "        </tr>\n",
       "        <tr>\n",
       "            <td>Part 0</td>\n",
       "            <td>days(created_at)</td>\n",
       "            <td></td>\n",
       "        </tr>\n",
       "        <tr>\n",
       "            <td></td>\n",
       "            <td></td>\n",
       "            <td></td>\n",
       "        </tr>\n",
       "        <tr>\n",
       "            <td># Metadata Columns</td>\n",
       "            <td></td>\n",
       "            <td></td>\n",
       "        </tr>\n",
       "        <tr>\n",
       "            <td>_spec_id</td>\n",
       "            <td>int</td>\n",
       "            <td></td>\n",
       "        </tr>\n",
       "        <tr>\n",
       "            <td>_partition</td>\n",
       "            <td>struct&lt;created_at_day:date&gt;</td>\n",
       "            <td></td>\n",
       "        </tr>\n",
       "        <tr>\n",
       "            <td>_file</td>\n",
       "            <td>string</td>\n",
       "            <td></td>\n",
       "        </tr>\n",
       "        <tr>\n",
       "            <td>_pos</td>\n",
       "            <td>bigint</td>\n",
       "            <td></td>\n",
       "        </tr>\n",
       "        <tr>\n",
       "            <td>_deleted</td>\n",
       "            <td>boolean</td>\n",
       "            <td></td>\n",
       "        </tr>\n",
       "        <tr>\n",
       "            <td></td>\n",
       "            <td></td>\n",
       "            <td></td>\n",
       "        </tr>\n",
       "        <tr>\n",
       "            <td># Detailed Table Information</td>\n",
       "            <td></td>\n",
       "            <td></td>\n",
       "        </tr>\n",
       "        <tr>\n",
       "            <td>Name</td>\n",
       "            <td>demo.iceberg.github_issues</td>\n",
       "            <td></td>\n",
       "        </tr>\n",
       "        <tr>\n",
       "            <td>Type</td>\n",
       "            <td>MANAGED</td>\n",
       "            <td></td>\n",
       "        </tr>\n",
       "        <tr>\n",
       "            <td>Location</td>\n",
       "            <td>s3://warehouse/iceberg/github_issues</td>\n",
       "            <td></td>\n",
       "        </tr>\n",
       "        <tr>\n",
       "            <td>Provider</td>\n",
       "            <td>iceberg</td>\n",
       "            <td></td>\n",
       "        </tr>\n",
       "        <tr>\n",
       "            <td>Owner</td>\n",
       "            <td>root</td>\n",
       "            <td></td>\n",
       "        </tr>\n",
       "        <tr>\n",
       "            <td>Table Properties</td>\n",
       "            <td>[current-snapshot-id=none,format=iceberg/parquet,format-version=2,write.parquet.compression-codec=zstd]</td>\n",
       "            <td></td>\n",
       "        </tr>\n",
       "    </tbody>\n",
       "</table>"
      ],
      "text/plain": [
       "+------------------------------+---------------------------------------------------------------------------------------------------------+---------+\n",
       "|                     col_name |                                                                                               data_type | comment |\n",
       "+------------------------------+---------------------------------------------------------------------------------------------------------+---------+\n",
       "|                        actor |                                                                                                  string |    None |\n",
       "|                   created_at |                                                                                               timestamp |    None |\n",
       "|                     event_id |                                                                                                  string |    None |\n",
       "|                          org |                                                                                                  string |    None |\n",
       "|                       action |                                                                                                  string |    None |\n",
       "|                        issue |                                                                                                  string |    None |\n",
       "|                              |                                                                                                         |         |\n",
       "|               # Partitioning |                                                                                                         |         |\n",
       "|                       Part 0 |                                                                                        days(created_at) |         |\n",
       "|                              |                                                                                                         |         |\n",
       "|           # Metadata Columns |                                                                                                         |         |\n",
       "|                     _spec_id |                                                                                                     int |         |\n",
       "|                   _partition |                                                                             struct<created_at_day:date> |         |\n",
       "|                        _file |                                                                                                  string |         |\n",
       "|                         _pos |                                                                                                  bigint |         |\n",
       "|                     _deleted |                                                                                                 boolean |         |\n",
       "|                              |                                                                                                         |         |\n",
       "| # Detailed Table Information |                                                                                                         |         |\n",
       "|                         Name |                                                                              demo.iceberg.github_issues |         |\n",
       "|                         Type |                                                                                                 MANAGED |         |\n",
       "|                     Location |                                                                    s3://warehouse/iceberg/github_issues |         |\n",
       "|                     Provider |                                                                                                 iceberg |         |\n",
       "|                        Owner |                                                                                                    root |         |\n",
       "|             Table Properties | [current-snapshot-id=none,format=iceberg/parquet,format-version=2,write.parquet.compression-codec=zstd] |         |\n",
       "+------------------------------+---------------------------------------------------------------------------------------------------------+---------+"
      ]
     },
     "execution_count": 15,
     "metadata": {},
     "output_type": "execute_result"
    }
   ],
   "source": [
    "%%sql\n",
    "DESCRIBE FORMATTED iceberg.github_issues;"
   ]
  },
  {
   "cell_type": "code",
   "execution_count": 28,
   "id": "713df221-b8d4-48bb-8d6a-1ce9dd76f835",
   "metadata": {},
   "outputs": [
    {
     "data": {
      "text/html": [
       "<table>\n",
       "    <thead>\n",
       "        <tr>\n",
       "        </tr>\n",
       "    </thead>\n",
       "    <tbody>\n",
       "    </tbody>\n",
       "</table>"
      ],
      "text/plain": [
       "++\n",
       "||\n",
       "++\n",
       "++"
      ]
     },
     "execution_count": 28,
     "metadata": {},
     "output_type": "execute_result"
    }
   ],
   "source": [
    "%%sql\n",
    "CREATE TABLE IF NOT EXISTS iceberg.dim_repo (\n",
    "    id BIGINT,\n",
    "    name STRING,\n",
    "    url STRING\n",
    ") USING ICEBERG"
   ]
  },
  {
   "cell_type": "code",
   "execution_count": 29,
   "id": "20340439-9c34-4c1b-b53a-7f70522c1b73",
   "metadata": {},
   "outputs": [
    {
     "data": {
      "text/html": [
       "<table>\n",
       "    <thead>\n",
       "        <tr>\n",
       "        </tr>\n",
       "    </thead>\n",
       "    <tbody>\n",
       "    </tbody>\n",
       "</table>"
      ],
      "text/plain": [
       "++\n",
       "||\n",
       "++\n",
       "++"
      ]
     },
     "execution_count": 29,
     "metadata": {},
     "output_type": "execute_result"
    }
   ],
   "source": [
    "%%sql\n",
    "CREATE TABLE IF NOT EXISTS iceberg.dim_org (\n",
    "    id BIGINT,\n",
    "    name STRING,\n",
    "    url STRING\n",
    ") USING ICEBERG"
   ]
  },
  {
   "cell_type": "code",
   "execution_count": 30,
   "id": "a79ddae1-c2e1-4cff-8587-3baefea94ade",
   "metadata": {},
   "outputs": [
    {
     "data": {
      "text/html": [
       "<table>\n",
       "    <thead>\n",
       "        <tr>\n",
       "        </tr>\n",
       "    </thead>\n",
       "    <tbody>\n",
       "    </tbody>\n",
       "</table>"
      ],
      "text/plain": [
       "++\n",
       "||\n",
       "++\n",
       "++"
      ]
     },
     "execution_count": 30,
     "metadata": {},
     "output_type": "execute_result"
    }
   ],
   "source": [
    "%%sql\n",
    "CREATE TABLE IF NOT EXISTS iceberg.fct_issue_events (\n",
    "    event_id BIGINT,       -- Unique event identifier (PK)\n",
    "    action STRING,         -- Type of action (opened, closed, reopened)\n",
    "    issue_id BIGINT,       -- FK to Issues dimension\n",
    "    user_id BIGINT,        -- FK to Users dimension\n",
    "    org_id BIGINT,         -- FK to Organizations dimension\n",
    "    created_at TIMESTAMP   -- When the event occurred\n",
    ") USING ICEBERG\n",
    "PARTITIONED BY (action);"
   ]
  },
  {
   "cell_type": "code",
   "execution_count": null,
   "id": "23fdb1e8-63bb-4e36-9ba0-81bc78ce34c3",
   "metadata": {},
   "outputs": [],
   "source": []
  }
 ],
 "metadata": {
  "kernelspec": {
   "display_name": "Python 3 (ipykernel)",
   "language": "python",
   "name": "python3"
  },
  "language_info": {
   "codemirror_mode": {
    "name": "ipython",
    "version": 3
   },
   "file_extension": ".py",
   "mimetype": "text/x-python",
   "name": "python",
   "nbconvert_exporter": "python",
   "pygments_lexer": "ipython3",
   "version": "3.10.16"
  }
 },
 "nbformat": 4,
 "nbformat_minor": 5
}
