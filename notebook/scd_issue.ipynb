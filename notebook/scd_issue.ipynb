{
 "cells": [
  {
   "cell_type": "code",
   "execution_count": 1,
   "metadata": {},
   "outputs": [
    {
     "name": "stderr",
     "output_type": "stream",
     "text": [
      "your 131072x1 screen size is bogus. expect trouble\n",
      "25/03/09 21:43:23 WARN Utils: Your hostname, NathanBlade15 resolves to a loopback address: 127.0.1.1; using 10.255.255.254 instead (on interface lo)\n",
      "25/03/09 21:43:23 WARN Utils: Set SPARK_LOCAL_IP if you need to bind to another address\n",
      "Setting default log level to \"WARN\".\n",
      "To adjust logging level use sc.setLogLevel(newLevel). For SparkR, use setLogLevel(newLevel).\n",
      "25/03/09 21:43:26 WARN NativeCodeLoader: Unable to load native-hadoop library for your platform... using builtin-java classes where applicable\n"
     ]
    }
   ],
   "source": [
    "%load_ext sparksql_magic\n",
    "from pyspark.sql import SparkSession\n",
    "\n",
    "# Start Spark session\n",
    "spark = (\n",
    "    SparkSession.builder.appName(\"FilterGHJsonPYTHON\")\n",
    "    .config(\"spark.sql.catalogImplementation\", \"hive\")\n",
    "    .enableHiveSupport()\n",
    "    .getOrCreate()\n",
    ")"
   ]
  },
  {
   "cell_type": "code",
   "execution_count": 2,
   "metadata": {},
   "outputs": [
    {
     "name": "stderr",
     "output_type": "stream",
     "text": [
      "25/03/09 21:43:52 WARN SparkStringUtils: Truncated the string representation of a plan since it was too large. This behavior can be adjusted by setting 'spark.sql.debug.maxToStringFields'.\n"
     ]
    }
   ],
   "source": [
    "from pyspark.sql.functions import col\n",
    "df = spark.read.json(\"../data/*.json.gz\")\n",
    "# Filter for IssuesEvent\n",
    "df = df.filter(df[\"type\"] == \"IssuesEvent\")\n",
    "df = df.select(\n",
    "    col(\"actor\"),\n",
    "    col(\"created_at\"),\n",
    "    col(\"id\").alias(\"event_id\"),\n",
    "    col(\"org\"),\n",
    "    col(\"payload.action\"),\n",
    "    col(\"payload.issue\")\n",
    ")"
   ]
  },
  {
   "cell_type": "code",
   "execution_count": 3,
   "metadata": {},
   "outputs": [
    {
     "name": "stderr",
     "output_type": "stream",
     "text": [
      "[Stage 1:>                                                          (0 + 1) / 1]\r"
     ]
    },
    {
     "name": "stdout",
     "output_type": "stream",
     "text": [
      "+--------------------+--------------------+-----------+--------------------+--------+--------------------+\n",
      "|               actor|          created_at|   event_id|                 org|  action|               issue|\n",
      "+--------------------+--------------------+-----------+--------------------+--------+--------------------+\n",
      "|{https://avatars....|2025-01-01T01:00:02Z|45186096107|                NULL|  opened|{NULL, NULL, [], ...|\n",
      "|{https://avatars....|2025-01-01T01:00:02Z|45186096173|                NULL|  opened|{NULL, NULL, [], ...|\n",
      "|{https://avatars....|2025-01-01T01:00:04Z|45186096455|                NULL|  opened|{NULL, NULL, [], ...|\n",
      "|{https://avatars....|2025-01-01T01:00:04Z|45186096537|                NULL|  closed|{NULL, NULL, [], ...|\n",
      "|{https://avatars....|2025-01-01T01:00:04Z|45186096631|{https://avatars....|  opened|{NULL, NULL, [], ...|\n",
      "|{https://avatars....|2025-01-01T01:00:08Z|45186097554|                NULL|  opened|{NULL, NULL, [], ...|\n",
      "|{https://avatars....|2025-01-01T01:00:09Z|45186097791|{https://avatars....|  opened|{NULL, NULL, [], ...|\n",
      "|{https://avatars....|2025-01-01T01:00:13Z|45186098536|                NULL|  closed|{NULL, NULL, [], ...|\n",
      "|{https://avatars....|2025-01-01T01:00:17Z|45186099088|{https://avatars....|  closed|{NULL, NULL, [], ...|\n",
      "|{https://avatars....|2025-01-01T01:00:18Z|45186099168|{https://avatars....|  opened|{NULL, NULL, [], ...|\n",
      "|{https://avatars....|2025-01-01T01:00:18Z|45186099250|{https://avatars....|  opened|{NULL, NULL, [], ...|\n",
      "|{https://avatars....|2025-01-01T01:00:20Z|45186099676|{https://avatars....|  closed|{NULL, NULL, [], ...|\n",
      "|{https://avatars....|2025-01-01T01:00:20Z|45186099724|{https://avatars....|reopened|{NULL, NULL, [], ...|\n",
      "|{https://avatars....|2025-01-01T01:00:21Z|45186099873|                NULL|  closed|{NULL, NULL, [], ...|\n",
      "|{https://avatars....|2025-01-01T01:00:22Z|45186100063|{https://avatars....|  closed|{NULL, NULL, [], ...|\n",
      "|{https://avatars....|2025-01-01T01:00:27Z|45186100935|                NULL|  opened|{NULL, NULL, [], ...|\n",
      "|{https://avatars....|2025-01-01T01:00:29Z|45186101113|                NULL|  closed|{NULL, NULL, [], ...|\n",
      "|{https://avatars....|2025-01-01T01:00:29Z|45186101144|                NULL|  opened|{NULL, {https://a...|\n",
      "|{https://avatars....|2025-01-01T01:00:29Z|45186101182|{https://avatars....|  opened|{NULL, NULL, [], ...|\n",
      "|{https://avatars....|2025-01-01T01:00:30Z|45186101246|{https://avatars....|  opened|{NULL, NULL, [], ...|\n",
      "+--------------------+--------------------+-----------+--------------------+--------+--------------------+\n",
      "only showing top 20 rows\n",
      "\n"
     ]
    },
    {
     "name": "stderr",
     "output_type": "stream",
     "text": [
      "                                                                                \r"
     ]
    }
   ],
   "source": [
    "df.createOrReplaceTempView(\"df\")\n",
    "df.show()"
   ]
  },
  {
   "cell_type": "code",
   "execution_count": 33,
   "metadata": {},
   "outputs": [
    {
     "name": "stdout",
     "output_type": "stream",
     "text": [
      "+------------------+--------------------+--------------------+------------------+-----------------------------+--------------------+--------+--------------------+--------------------+-----+--------------------+--------------------+----------+--------------------+--------------------+------+---------+------------------+------+------------------------+------------+--------------------+--------------------+------+------------+------------------+--------------------+--------------------+--------------------+--------------------+--------------------+\n",
      "|active_lock_reason|            assignee|           assignees|author_association|                         body|           closed_at|comments|        comments_url|          created_at|draft|          events_url|            html_url|        id|              labels|          labels_url|locked|milestone|           node_id|number|performed_via_github_app|pull_request|           reactions|      repository_url| state|state_reason|sub_issues_summary|        timeline_url|               title|          updated_at|                 url|                user|\n",
      "+------------------+--------------------+--------------------+------------------+-----------------------------+--------------------+--------+--------------------+--------------------+-----+--------------------+--------------------+----------+--------------------+--------------------+------+---------+------------------+------+------------------------+------------+--------------------+--------------------+------+------------+------------------+--------------------+--------------------+--------------------+--------------------+--------------------+\n",
      "|              NULL|                NULL|                  []|             OWNER|         Please check if t...|                NULL|       0|https://api.githu...|2025-01-01T01:00:00Z| NULL|https://api.githu...|https://github.co...|2764758647|                  []|https://api.githu...| false|     NULL|I_kwDOJoDhGs6kyt53| 12990|                    NULL|        NULL|{0, 0, 0, 0, 0, 0...|https://api.githu...|  open|        NULL|              NULL|https://api.githu...|Check if time is ...|2025-01-01T01:00:00Z|https://api.githu...|{https://avatars....|\n",
      "|              NULL|                NULL|                  []|              NONE|         Since too many ne...|                NULL|       0|https://api.githu...|2025-01-01T01:00:01Z| NULL|https://api.githu...|https://github.co...|2764758656|                  []|https://api.githu...| false|     NULL|I_kwDOJCbFIs6kyt6A|   374|                    NULL|        NULL|{0, 0, 0, 0, 0, 0...|https://api.githu...|  open|        NULL|              NULL|https://api.githu...|it's me again , c...|2025-01-01T01:00:01Z|https://api.githu...|{https://avatars....|\n",
      "|              NULL|                NULL|                  []|             OWNER|         \\nThe HR 0x80072E...|                NULL|       0|https://api.githu...|2025-01-01T01:00:02Z| NULL|https://api.githu...|https://github.co...|2764758662|                  []|https://api.githu...| false|     NULL|I_kwDONdrDJ86kyt6G|    26|                    NULL|        NULL|{0, 0, 0, 0, 0, 0...|https://api.githu...|  open|        NULL|              NULL|https://api.githu...|Fixing HR 0x80072...|2025-01-01T01:00:02Z|https://api.githu...|{https://avatars....|\n",
      "|              NULL|                NULL|                  []|              NONE|         When I use the ph...|2025-01-01T01:00:03Z|       3|https://api.githu...|2024-12-31T23:42:35Z| NULL|https://api.githu...|https://github.co...|2764728177|                  []|https://api.githu...| false|     NULL|I_kwDOGiwits6kymdx|    22|                    NULL|        NULL|{0, 0, 0, 0, 0, 0...|https://api.githu...|closed|   completed|              NULL|https://api.githu...|Pumps turning off...|2025-01-01T01:00:03Z|https://api.githu...|{https://avatars....|\n",
      "|              NULL|                NULL|                  []|      COLLABORATOR|         - [x] Change VTS/...|                NULL|       0|https://api.githu...|2025-01-01T01:00:03Z| NULL|https://api.githu...|https://github.co...|2764758673|                  []|https://api.githu...| false|     NULL|I_kwDOK_UASM6kyt6R|     1|                    NULL|        NULL|{0, 0, 0, 0, 0, 0...|https://api.githu...|  open|        NULL|              NULL|https://api.githu...|Spec Change 13: U...|2025-01-01T01:00:03Z|https://api.githu...|{https://avatars....|\n",
      "|              NULL|                NULL|                  []|              NONE|         If you have a pag...|                NULL|       0|https://api.githu...|2025-01-01T01:00:05Z| NULL|https://api.githu...|https://github.co...|2764758696|                  []|https://api.githu...| false|     NULL|I_kwDOJ_ulS86kyt6o|   123|                    NULL|        NULL|{0, 0, 0, 0, 0, 0...|https://api.githu...|  open|        NULL|              NULL|https://api.githu...|After page `goto`...|2025-01-01T01:00:05Z|https://api.githu...|{https://avatars....|\n",
      "|              NULL|                NULL|                  []|       CONTRIBUTOR|         In user interface...|                NULL|       0|https://api.githu...|2025-01-01T01:00:08Z| NULL|https://api.githu...|https://github.co...|2764758706|                  []|https://api.githu...| false|     NULL|I_kwDOM453Ds6kyt6y|    30|                    NULL|        NULL|{0, 0, 0, 0, 0, 0...|https://api.githu...|  open|        NULL|              NULL|https://api.githu...|Disable hover eff...|2025-01-01T01:00:08Z|https://api.githu...|{https://avatars....|\n",
      "|              NULL|                NULL|                  []|             OWNER|## 実装チェックリスト\\n## ...|2025-01-01T01:00:13Z|       0|https://api.githu...|2024-12-18T08:46:44Z| NULL|https://api.githu...|https://github.co...|2747178133|                  []|https://api.githu...| false|     NULL|I_kwDONQhFH86jvpyV|     8|                    NULL|        NULL|{0, 0, 0, 0, 0, 0...|https://api.githu...|closed|   completed|              NULL|https://api.githu...|        ヘッダー作成|2025-01-01T01:00:13Z|https://api.githu...|{https://avatars....|\n",
      "|              NULL|                NULL|                  []|              NONE|         ### Did the issue...|2025-01-01T01:00:16Z|       5|https://api.githu...|2024-12-28T10:08:19Z| NULL|https://api.githu...|https://github.co...|2761657545|[{6c18f4, false, ...|https://api.githu...| false|     NULL|I_kwDOANTUus6km4zJ|   645|                    NULL|        NULL|{0, 0, 0, 0, 0, 0...|https://api.githu...|closed|   completed|              NULL|https://api.githu...|Mcprep crush on b...|2025-01-01T01:00:16Z|https://api.githu...|{https://avatars....|\n",
      "|              NULL|                NULL|                  []|              NONE|         It is incredibly ...|                NULL|       0|https://api.githu...|2025-01-01T01:00:16Z| NULL|https://api.githu...|https://github.co...|2764758764|                  []|https://api.githu...| false|     NULL|I_kwDOCBNonM6kyt7s|  2105|                    NULL|        NULL|{0, 0, 0, 0, 0, 0...|https://api.githu...|  open|        NULL|              NULL|https://api.githu...|Add linux builds ...|2025-01-01T01:00:16Z|https://api.githu...|{https://avatars....|\n",
      "|              NULL|                NULL|                  []|            MEMBER|         In [`0e8b012`](ht...|                NULL|       0|https://api.githu...|2025-01-01T01:00:16Z| NULL|https://api.githu...|https://github.co...|2764758769|[{ededed, false, ...|https://api.githu...|  true|     NULL|I_kwDOHFbdm86kyt7x| 12908|                    NULL|        NULL|{0, 0, 0, 0, 0, 0...|https://api.githu...|  open|        NULL|              NULL|https://api.githu...|🛑 searx.cespedes...|2025-01-01T01:00:17Z|https://api.githu...|{https://avatars....|\n",
      "|              NULL|                NULL|                  []|      COLLABORATOR|         In [`1dc8be9`](ht...|2025-01-01T01:00:19Z|       1|https://api.githu...|2025-01-01T00:34:51Z| NULL|https://api.githu...|https://github.co...|2764749102|[{ededed, false, ...|https://api.githu...|  true|     NULL|I_kwDOKJa1lM6kyrku|  3638|                    NULL|        NULL|{0, 0, 0, 0, 0, 0...|https://api.githu...|closed|   completed|              NULL|https://api.githu...|🛑 dnslink.org is...|2025-01-01T01:00:20Z|https://api.githu...|{https://avatars....|\n",
      "|              NULL|                NULL|                  []|              NONE|         ### Did the issue...|                NULL|       5|https://api.githu...|2024-12-28T10:08:19Z| NULL|https://api.githu...|https://github.co...|2761657545|[{6c18f4, false, ...|https://api.githu...| false|     NULL|I_kwDOANTUus6km4zJ|   645|                    NULL|        NULL|{0, 0, 0, 0, 0, 0...|https://api.githu...|  open|    reopened|              NULL|https://api.githu...|Mcprep crush on b...|2025-01-01T01:00:20Z|https://api.githu...|{https://avatars....|\n",
      "|              NULL|                NULL|                  []|              NONE|         ### Feature reque...|2025-01-01T01:00:20Z|       1|https://api.githu...|2024-12-31T15:30:48Z| NULL|https://api.githu...|https://github.co...|2764480235|                  []|https://api.githu...| false|     NULL|I_kwDOM21SIs6kxp7r|   168|                    NULL|        NULL|{0, 0, 0, 0, 0, 0...|https://api.githu...|closed|   completed|              NULL|https://api.githu...|[question] LTX vi...|2025-01-01T01:00:21Z|https://api.githu...|{https://avatars....|\n",
      "|              NULL|                NULL|                  []|              NONE|         ### Did the issue...|2025-01-01T01:00:22Z|       5|https://api.githu...|2024-12-28T10:08:19Z| NULL|https://api.githu...|https://github.co...|2761657545|[{6c18f4, false, ...|https://api.githu...| false|     NULL|I_kwDOANTUus6km4zJ|   645|                    NULL|        NULL|{0, 0, 0, 0, 0, 0...|https://api.githu...|closed| not_planned|              NULL|https://api.githu...|Mcprep crush on b...|2025-01-01T01:00:22Z|https://api.githu...|{https://avatars....|\n",
      "|              NULL|                NULL|                  []|              NONE|         **Is your feature...|                NULL|       0|https://api.githu...|2025-01-01T01:00:26Z| NULL|https://api.githu...|https://github.co...|2764758845|[{5367e8, false, ...|https://api.githu...| false|     NULL|I_kwDOAA3TJs6kyt89|  1648|                    NULL|        NULL|{0, 0, 0, 0, 0, 0...|https://api.githu...|  open|        NULL|              NULL|https://api.githu...|Feature request: ...|2025-01-01T01:00:26Z|https://api.githu...|{https://avatars....|\n",
      "|              NULL|                NULL|                  []|              NONE|         Unable to change ...|2025-01-01T01:00:28Z|       5|https://api.githu...|2024-12-27T02:48:00Z| NULL|https://api.githu...|https://github.co...|2760319545|                  []|https://api.githu...| false|     NULL|I_kwDOMn1nes6khyI5|    16|                    NULL|        NULL|{0, 0, 0, 0, 0, 0...|https://api.githu...|closed|   completed|              NULL|https://api.githu...|Unable to change ...|2025-01-01T01:00:28Z|https://api.githu...|{https://avatars....|\n",
      "|              NULL|{https://avatars....|[{https://avatars...|             OWNER|                         NULL|                NULL|       0|https://api.githu...|2025-01-01T01:00:27Z| NULL|https://api.githu...|https://github.co...|2764758857|                  []|https://api.githu...| false|     NULL|I_kwDONQ89a86kyt9J|    29|                    NULL|        NULL|{0, 0, 0, 0, 0, 0...|https://api.githu...|  open|        NULL|              NULL|https://api.githu...| 로딩 화면 폰트 작업|2025-01-01T01:00:27Z|https://api.githu...|{https://avatars....|\n",
      "|              NULL|                NULL|                  []|       CONTRIBUTOR|         When installing m...|                NULL|       0|https://api.githu...|2025-01-01T01:00:28Z| NULL|https://api.githu...|https://github.co...|2764758862|                  []|https://api.githu...| false|     NULL|I_kwDOLA77T86kyt9O|   269|                    NULL|        NULL|{0, 0, 0, 0, 0, 0...|https://api.githu...|  open|        NULL|              NULL|https://api.githu...|Compile for Pytho...|2025-01-01T01:00:28Z|https://api.githu...|{https://avatars....|\n",
      "|              NULL|                NULL|                  []|              NONE|         # Error Info\\nErr...|                NULL|       0|https://api.githu...|2025-01-01T01:00:28Z| NULL|https://api.githu...|https://github.co...|2764758866|[{dddd00, false, ...|https://api.githu...| false|     NULL|I_kwDOCu--VM6kyt9S| 19109|                    NULL|        NULL|{0, 0, 0, 0, 0, 0...|https://api.githu...|  open|        NULL|         {0, 0, 0}|https://api.githu...|Error on https://...|2025-01-01T01:00:28Z|https://api.githu...|{https://avatars....|\n",
      "+------------------+--------------------+--------------------+------------------+-----------------------------+--------------------+--------+--------------------+--------------------+-----+--------------------+--------------------+----------+--------------------+--------------------+------+---------+------------------+------+------------------------+------------+--------------------+--------------------+------+------------+------------------+--------------------+--------------------+--------------------+--------------------+--------------------+\n",
      "only showing top 20 rows\n",
      "\n"
     ]
    }
   ],
   "source": [
    "spark.sql(\"\"\" select issue.* from df \"\"\").show()\n"
   ]
  },
  {
   "cell_type": "markdown",
   "metadata": {},
   "source": [
    "## Build up the issues scd type II table"
   ]
  },
  {
   "cell_type": "code",
   "execution_count": null,
   "metadata": {},
   "outputs": [],
   "source": [
    "%%sparksql\n",
    "Create table if not exists scd_issues(\n",
    "    user_id BIGINT,\n",
    "    event_id BIGINT,\n",
    "    org_id as BIGINT,\n",
    "    action VARCHAR(8),\n",
    "    created_at TIMESTAMP\n",
    ")"
   ]
  },
  {
   "cell_type": "code",
   "execution_count": 20,
   "metadata": {},
   "outputs": [],
   "source": [
    "df = spark.sql(\"\"\"\n",
    "    SELECT \n",
    "        issue.id AS issue_id,\n",
    "        issue.author_association AS author_role,\n",
    "        issue.title AS issue_title,\n",
    "        issue.body AS issue_description,\n",
    "        issue.closed_at AS closed_timestamp,\n",
    "        issue.created_at AS created_timestamp,\n",
    "        issue.state AS issue_state,\n",
    "        issue.comments AS comment_count,\n",
    "        issue.state_reason,\n",
    "        issue.updated_at\n",
    "    FROM df\n",
    "\"\"\")\n",
    "\n",
    "# issue.state_reason is always NOT NULL when issue.state is 'closed' \n",
    "# otherwise it is Always NULL"
   ]
  },
  {
   "cell_type": "code",
   "execution_count": 22,
   "metadata": {},
   "outputs": [
    {
     "name": "stdout",
     "output_type": "stream",
     "text": [
      "+----------+------------+--------------------+-----------------------------+--------------------+--------------------+-----------+-------------+------------+--------------------+\n",
      "|  issue_id| author_role|         issue_title|            issue_description|    closed_timestamp|   created_timestamp|issue_state|comment_count|state_reason|          updated_at|\n",
      "+----------+------------+--------------------+-----------------------------+--------------------+--------------------+-----------+-------------+------------+--------------------+\n",
      "|2764758647|       OWNER|Check if time is ...|         Please check if t...|                NULL|2025-01-01T01:00:00Z|       open|            0|        NULL|2025-01-01T01:00:00Z|\n",
      "|2764758656|        NONE|it's me again , c...|         Since too many ne...|                NULL|2025-01-01T01:00:01Z|       open|            0|        NULL|2025-01-01T01:00:01Z|\n",
      "|2764758662|       OWNER|Fixing HR 0x80072...|         \\nThe HR 0x80072E...|                NULL|2025-01-01T01:00:02Z|       open|            0|        NULL|2025-01-01T01:00:02Z|\n",
      "|2764728177|        NONE|Pumps turning off...|         When I use the ph...|2025-01-01T01:00:03Z|2024-12-31T23:42:35Z|     closed|            3|   completed|2025-01-01T01:00:03Z|\n",
      "|2764758673|COLLABORATOR|Spec Change 13: U...|         - [x] Change VTS/...|                NULL|2025-01-01T01:00:03Z|       open|            0|        NULL|2025-01-01T01:00:03Z|\n",
      "|2764758696|        NONE|After page `goto`...|         If you have a pag...|                NULL|2025-01-01T01:00:05Z|       open|            0|        NULL|2025-01-01T01:00:05Z|\n",
      "|2764758706| CONTRIBUTOR|Disable hover eff...|         In user interface...|                NULL|2025-01-01T01:00:08Z|       open|            0|        NULL|2025-01-01T01:00:08Z|\n",
      "|2747178133|       OWNER|        ヘッダー作成|## 実装チェックリスト\\n## ...|2025-01-01T01:00:13Z|2024-12-18T08:46:44Z|     closed|            0|   completed|2025-01-01T01:00:13Z|\n",
      "|2761657545|        NONE|Mcprep crush on b...|         ### Did the issue...|2025-01-01T01:00:16Z|2024-12-28T10:08:19Z|     closed|            5|   completed|2025-01-01T01:00:16Z|\n",
      "|2764758764|        NONE|Add linux builds ...|         It is incredibly ...|                NULL|2025-01-01T01:00:16Z|       open|            0|        NULL|2025-01-01T01:00:16Z|\n",
      "|2764758769|      MEMBER|🛑 searx.cespedes...|         In [`0e8b012`](ht...|                NULL|2025-01-01T01:00:16Z|       open|            0|        NULL|2025-01-01T01:00:17Z|\n",
      "|2764749102|COLLABORATOR|🛑 dnslink.org is...|         In [`1dc8be9`](ht...|2025-01-01T01:00:19Z|2025-01-01T00:34:51Z|     closed|            1|   completed|2025-01-01T01:00:20Z|\n",
      "|2761657545|        NONE|Mcprep crush on b...|         ### Did the issue...|                NULL|2024-12-28T10:08:19Z|       open|            5|    reopened|2025-01-01T01:00:20Z|\n",
      "|2764480235|        NONE|[question] LTX vi...|         ### Feature reque...|2025-01-01T01:00:20Z|2024-12-31T15:30:48Z|     closed|            1|   completed|2025-01-01T01:00:21Z|\n",
      "|2761657545|        NONE|Mcprep crush on b...|         ### Did the issue...|2025-01-01T01:00:22Z|2024-12-28T10:08:19Z|     closed|            5| not_planned|2025-01-01T01:00:22Z|\n",
      "|2764758845|        NONE|Feature request: ...|         **Is your feature...|                NULL|2025-01-01T01:00:26Z|       open|            0|        NULL|2025-01-01T01:00:26Z|\n",
      "|2760319545|        NONE|Unable to change ...|         Unable to change ...|2025-01-01T01:00:28Z|2024-12-27T02:48:00Z|     closed|            5|   completed|2025-01-01T01:00:28Z|\n",
      "|2764758857|       OWNER| 로딩 화면 폰트 작업|                         NULL|                NULL|2025-01-01T01:00:27Z|       open|            0|        NULL|2025-01-01T01:00:27Z|\n",
      "|2764758862| CONTRIBUTOR|Compile for Pytho...|         When installing m...|                NULL|2025-01-01T01:00:28Z|       open|            0|        NULL|2025-01-01T01:00:28Z|\n",
      "|2764758866|        NONE|Error on https://...|         # Error Info\\nErr...|                NULL|2025-01-01T01:00:28Z|       open|            0|        NULL|2025-01-01T01:00:28Z|\n",
      "+----------+------------+--------------------+-----------------------------+--------------------+--------------------+-----------+-------------+------------+--------------------+\n",
      "only showing top 20 rows\n",
      "\n"
     ]
    }
   ],
   "source": [
    "df.createOrReplaceTempView(\"df\")\n",
    "df.show()"
   ]
  },
  {
   "cell_type": "code",
   "execution_count": null,
   "metadata": {},
   "outputs": [
    {
     "name": "stderr",
     "output_type": "stream",
     "text": [
      "[Stage 36:==============================================>         (20 + 4) / 24]\r"
     ]
    },
    {
     "name": "stdout",
     "output_type": "stream",
     "text": [
      "+---------+------------+----------------------------------------+-----------------------------------+--------------------+--------------------+-----------+-------------+------------+--------------------+----------------+-----------------+-------+------+\n",
      "| issue_id| author_role|                             issue_title|                  issue_description|    closed_timestamp|   created_timestamp|issue_state|comment_count|state_reason|          updated_at|prev_issue_state|prev_state_reason|changed|streak|\n",
      "+---------+------------+----------------------------------------+-----------------------------------+--------------------+--------------------+-----------+-------------+------------+--------------------+----------------+-----------------+-------+------+\n",
      "|234049579|        NONE|                    Google Assistant ...|               Hey, great timer!...|2025-01-01T18:01:39Z|2017-06-06T23:01:43Z|     closed|            0|   completed|2025-01-01T18:01:39Z|            NULL|             NULL|      0|     0|\n",
      "|238653637|        NONE|                    Edit smarts/query...|               I'm interested in...|2025-01-01T02:42:50Z|2017-06-26T20:04:00Z|     closed|            4| not_planned|2025-01-01T02:42:51Z|            NULL|             NULL|      0|     0|\n",
      "|267428789| CONTRIBUTOR|                    Make a form to re...|               From Radu:\\r\\n\\r\\...|2025-01-01T11:21:59Z|2017-10-22T02:04:29Z|     closed|            7|   completed|2025-01-01T11:21:59Z|            NULL|             NULL|      0|     0|\n",
      "|337274174|       OWNER|    安全：将配置文件中的敏感信息加密放置|1.配置文件中的敏感信息如密码等加...|2025-01-01T07:23:47Z|2018-07-01T08:32:55Z|     closed|            0|   completed|2025-01-01T07:23:47Z|            NULL|             NULL|      0|     0|\n",
      "|400782034|        NONE|                    recompile with -fPIC|               $ make\\r\\n...\\r\\n...|2025-01-01T07:30:49Z|2019-01-18T15:51:44Z|     closed|           34|   completed|2025-01-01T07:30:49Z|            NULL|             NULL|      0|     0|\n",
      "|474589518|        NONE|                    Cannot Download f...|               * Ripme version: ...|2025-01-01T17:33:28Z|2019-07-30T13:35:56Z|     closed|            6|   completed|2025-01-01T17:33:28Z|            NULL|             NULL|      0|     0|\n",
      "|517115943|COLLABORATOR|            とらふ【虎斑】(торафу)〔0...|               ```\\n<i>см.</i> <...|2025-01-01T20:58:12Z|2019-11-04T12:19:10Z|     closed|            2|   completed|2025-01-01T20:58:12Z|            NULL|             NULL|      0|     0|\n",
      "|542372431|       OWNER|                    Intermittent disp...|               **Describe the bu...|2025-01-01T03:49:31Z|2019-12-25T18:08:50Z|     closed|            1|   completed|2025-01-01T03:49:31Z|            NULL|             NULL|      0|     0|\n",
      "|543456284|        NONE|   修改完用户信息后查询，用户信息为以...|             **BUG描述**\\r\\n\\r\\n...|2025-01-01T07:23:48Z|2019-12-29T16:00:35Z|     closed|            0|   completed|2025-01-01T07:23:48Z|            NULL|             NULL|      0|     0|\n",
      "|588503467|        NONE|                    Allow gestures to...|               It's very easy fo...|2025-01-01T14:37:22Z|2020-03-26T15:21:10Z|     closed|            4|   completed|2025-01-01T14:37:22Z|            NULL|             NULL|      0|     0|\n",
      "|594997224|        NONE|                    Auto pause on inc...|               While there's inc...|2025-01-01T14:39:59Z|2020-04-06T10:32:28Z|     closed|            0|   completed|2025-01-01T14:39:59Z|            NULL|             NULL|      0|     0|\n",
      "|645539297| CONTRIBUTOR|                    Set CPU request t...|               Parent: https://g...|2025-01-01T19:52:33Z|2020-06-25T12:53:58Z|     closed|            2|   completed|2025-01-01T19:52:33Z|            NULL|             NULL|      0|     0|\n",
      "|645540675| CONTRIBUTOR|                    Resources have bu...|               Parent: https://g...|2025-01-01T19:52:54Z|2020-06-25T12:56:07Z|     closed|            3|   completed|2025-01-01T19:52:55Z|            NULL|             NULL|      0|     0|\n",
      "|651435713|        NONE|         所有服务启动后无法登陆，始终401| ## 问题：所有服务启动后无法登陆...|2025-01-01T07:23:49Z|2020-07-06T10:40:14Z|     closed|            1|   completed|2025-01-01T07:23:50Z|            NULL|             NULL|      0|     0|\n",
      "|690944067|        NONE|                    Gaffer freeze on ...|               **Version**: Gaff...|2025-01-01T18:35:28Z|2020-09-02T11:31:00Z|     closed|            2|   completed|2025-01-01T18:35:28Z|            NULL|             NULL|      0|     0|\n",
      "|696576815|        NONE|微服务企业动态规则，审批功能建议，供参考|       大佬您好：\\r\\n     建议添...|2025-01-01T07:23:51Z|2020-09-09T08:17:51Z|     closed|            0|   completed|2025-01-01T07:23:51Z|            NULL|             NULL|      0|     0|\n",
      "|720447434|        NONE|                    Highcharts.cleanR...|               #### Expected beh...|2025-01-01T02:06:46Z|2020-10-13T15:44:53Z|     closed|            7| not_planned|2025-01-01T02:06:46Z|            NULL|             NULL|      0|     0|\n",
      "|733995495|        NONE|                    Consider adding Q...|               I am not sure if ...|2025-01-01T18:56:08Z|2020-11-01T15:39:11Z|     closed|            3| not_planned|2025-01-01T18:56:08Z|            NULL|             NULL|      0|     0|\n",
      "|739501860|        NONE|                    Role Based Voting...|               **Is your feature...|2025-01-01T07:46:29Z|2020-11-10T01:50:54Z|     closed|            1|   completed|2025-01-01T07:46:29Z|            NULL|             NULL|      0|     0|\n",
      "|739546991|        NONE|                install.sh运行后，spr...|             **BUG描述**\\r\\n\\r\\n...|2025-01-01T07:21:53Z|2020-11-10T03:50:14Z|     closed|            2|   completed|2025-01-01T07:21:53Z|            NULL|             NULL|      0|     0|\n",
      "+---------+------------+----------------------------------------+-----------------------------------+--------------------+--------------------+-----------+-------------+------------+--------------------+----------------+-----------------+-------+------+\n",
      "only showing top 20 rows\n",
      "\n"
     ]
    },
    {
     "name": "stderr",
     "output_type": "stream",
     "text": [
      "                                                                                \r"
     ]
    }
   ],
   "source": [
    "spark.sql(\"\"\"\n",
    "    WITH prev_state as (\n",
    "          SELECT \n",
    "            *, \n",
    "            lag(issue_state) over (partition by issue_id order by updated_at) as prev_issue_state,\n",
    "            lag(state_reason) over (partition by issue_id order by updated_at) as prev_state_reason,\n",
    "            lag(closed_timestamp) over (partition by issue_id order by updated_at) as prev_closed_timestamp,\n",
    "          FROM df\n",
    "          ),\n",
    "          change_indicator as (\n",
    "        select \n",
    "          *, \n",
    "          CASE WHEN (issue_state != prev_issue_state OR state_reason != prev_state_reason OR closed_timestamp != prev_closed_timestamp) THEN 1 ELSE 0 END as changed\n",
    "        from prev_state\n",
    "          ),\n",
    "        streaks as (\n",
    "          select \n",
    "            *, \n",
    "            sum(changed) over (partition by issue_id order by updated_at) as streak\n",
    "          from change_indicator\n",
    "          ) \n",
    "          select issue_id,author_role,issue_title,issue_description,created_timestamp,closed_timestamp from streaks\n",
    "\"\"\").show()"
   ]
  },
  {
   "cell_type": "code",
   "execution_count": 19,
   "metadata": {},
   "outputs": [
    {
     "name": "stdout",
     "output_type": "stream",
     "text": [
      "+----------+------+------------+--------------------------+-----------------------------+-------------------+-------------------+-----------+-------------+------------+---------------+\n",
      "|  issue_id|action| author_role|               issue_title|            issue_description|   closed_timestamp|  created_timestamp|issue_state|comment_count|state_reason|time_open_hours|\n",
      "+----------+------+------------+--------------------------+-----------------------------+-------------------+-------------------+-----------+-------------+------------+---------------+\n",
      "|2764728177|closed|        NONE|      Pumps turning off...|         When I use the ph...|2024-12-31 20:00:03|2024-12-31 18:42:35|     closed|            3|   completed|           1.29|\n",
      "|2747178133|closed|       OWNER|              ヘッダー作成|## 実装チェックリスト\\n## ...|2024-12-31 20:00:13|2024-12-18 03:46:44|     closed|            0|   completed|         328.22|\n",
      "|2761657545|closed|        NONE|      Mcprep crush on b...|         ### Did the issue...|2024-12-31 20:00:16|2024-12-28 05:08:19|     closed|            5|   completed|          86.87|\n",
      "|2764749102|closed|COLLABORATOR|      🛑 dnslink.org is...|         In [`1dc8be9`](ht...|2024-12-31 20:00:19|2024-12-31 19:34:51|     closed|            1|   completed|           0.42|\n",
      "|2764480235|closed|        NONE|      [question] LTX vi...|         ### Feature reque...|2024-12-31 20:00:20|2024-12-31 10:30:48|     closed|            1|   completed|           9.49|\n",
      "|2761657545|closed|        NONE|      Mcprep crush on b...|         ### Did the issue...|2024-12-31 20:00:22|2024-12-28 05:08:19|     closed|            5| not_planned|          86.87|\n",
      "|2760319545|closed|        NONE|      Unable to change ...|         Unable to change ...|2024-12-31 20:00:28|2024-12-26 21:48:00|     closed|            5|   completed|         118.21|\n",
      "|2764723923|closed|        NONE|      Cloud password do...|         ### Description\\n...|2024-12-31 20:00:29|2024-12-31 18:28:27|     closed|            1|   completed|           1.53|\n",
      "|2762584584|closed|       OWNER|      앱 번역, 아이콘 변경|                         NULL|2024-12-31 20:00:38|2024-12-29 22:04:54|     closed|            0|   completed|          45.93|\n",
      "|2764758474|closed|       OWNER|      Bug: Incorrect da...|                         NULL|2024-12-31 20:00:48|2024-12-31 19:59:32|     closed|            0|   completed|           0.02|\n",
      "|2763292652|closed| CONTRIBUTOR|  [1205] 12.30 오세영 구현|  <!-- 이슈 이름은 '[번호]...|2024-12-31 20:01:02|2024-12-30 09:33:02|     closed|            0|   completed|          34.47|\n",
      "|2719695540|closed|COLLABORATOR|        고급모드 이슈 수정|                         NULL|2024-12-31 20:01:12|2024-12-05 03:15:59|     closed|            0|   completed|         640.75|\n",
      "|2764751487|closed|        NONE|      OpenGarage Cannot...|         ### The problem\\n...|2024-12-31 20:01:16|2024-12-31 19:40:24|     closed|            2|   completed|           0.35|\n",
      "|2764042247|closed|        NONE|                     error|         saya coba run ses...|2024-12-31 20:01:48|2024-12-31 02:11:09|     closed|            2|   completed|          17.84|\n",
      "|2763829445|closed|       OWNER|      Add Reading Goal ...|         **Description:**\\...|2024-12-31 20:01:51|2024-12-30 19:28:40|     closed|            0|   completed|          24.55|\n",
      "|2764739817|closed|       OWNER|contentsはttl高めにして...|                         NULL|2024-12-31 20:01:52|2024-12-31 19:16:04|     closed|            0|   completed|           0.76|\n",
      "|2451806134|closed|       OWNER|      [HTTPS] Ajout du ...|         Besoin de passer ...|2024-12-31 20:01:56|2024-08-06 18:43:29|     closed|            5|   completed|        3530.31|\n",
      "|2762576122|closed|       OWNER|  android 새 ap 기기 버...|                         NULL|2024-12-31 20:01:57|2024-12-29 21:49:05|     closed|            0|   completed|          46.21|\n",
      "|2764739268|closed|       OWNER|    contentsはfetchでDB...|                         NULL|2024-12-31 20:02:01|2024-12-31 19:15:01|     closed|            0|   completed|           0.78|\n",
      "|2764732808|closed|       OWNER| seedでcontentsのデータ...|                         NULL|2024-12-31 20:02:07|2024-12-31 19:01:14|     closed|            0|   completed|           1.01|\n",
      "+----------+------+------------+--------------------------+-----------------------------+-------------------+-------------------+-----------+-------------+------------+---------------+\n",
      "only showing top 20 rows\n",
      "\n"
     ]
    }
   ],
   "source": [
    "spark.sql(\"\"\"\n",
    "    SELECT \n",
    "        issue.id AS issue_id,\n",
    "        action,\n",
    "        issue.author_association AS author_role,\n",
    "        issue.title AS issue_title,\n",
    "        issue.body AS issue_description,\n",
    "        CAST(issue.closed_at AS TIMESTAMP) AS closed_timestamp,\n",
    "        CAST(issue.created_at AS TIMESTAMP) AS created_timestamp,\n",
    "        issue.state AS issue_state,\n",
    "        issue.comments AS comment_count,\n",
    "        issue.state_reason,\n",
    "        \n",
    "        -- Convert created_at and closed_at to UNIX timestamps properly\n",
    "        ROUND(\n",
    "            (CASE \n",
    "                WHEN issue.closed_at IS NOT NULL \n",
    "                THEN unix_timestamp(CAST(issue.closed_at AS TIMESTAMP)) \n",
    "                     - unix_timestamp(CAST(issue.created_at AS TIMESTAMP))\n",
    "                ELSE unix_timestamp(current_timestamp()) \n",
    "                     - unix_timestamp(CAST(issue.created_at AS TIMESTAMP))\n",
    "            END) / 3600, 2\n",
    "        ) AS time_open_hours\n",
    "\n",
    "    FROM df\n",
    "          WHERE issue.state = 'closed'\n",
    "          AND issue.closed_at IS NOT NULL\n",
    "          AND issue.created_at IS NOT NULL\n",
    "          AND issue.closed_at > issue.created_at\n",
    "\"\"\").show()\n"
   ]
  },
  {
   "cell_type": "code",
   "execution_count": 20,
   "metadata": {},
   "outputs": [
    {
     "name": "stdout",
     "output_type": "stream",
     "text": [
      "+----------+--------+------------+--------------------+-----------------------------+----------------+-------------------+-----------+-------------+------------+---------------+\n",
      "|  issue_id|  action| author_role|         issue_title|            issue_description|closed_timestamp|  created_timestamp|issue_state|comment_count|state_reason|time_open_hours|\n",
      "+----------+--------+------------+--------------------+-----------------------------+----------------+-------------------+-----------+-------------+------------+---------------+\n",
      "|2764758647|  opened|       OWNER|Check if time is ...|         Please check if t...|            NULL|2024-12-31 20:00:00|       open|            0|        NULL|        1586.02|\n",
      "|2764758656|  opened|        NONE|it's me again , c...|         Since too many ne...|            NULL|2024-12-31 20:00:01|       open|            0|        NULL|        1586.02|\n",
      "|2764758662|  opened|       OWNER|Fixing HR 0x80072...|         \\nThe HR 0x80072E...|            NULL|2024-12-31 20:00:02|       open|            0|        NULL|        1586.02|\n",
      "|2764758673|  opened|COLLABORATOR|Spec Change 13: U...|         - [x] Change VTS/...|            NULL|2024-12-31 20:00:03|       open|            0|        NULL|        1586.02|\n",
      "|2764758696|  opened|        NONE|After page `goto`...|         If you have a pag...|            NULL|2024-12-31 20:00:05|       open|            0|        NULL|        1586.02|\n",
      "|2764758706|  opened| CONTRIBUTOR|Disable hover eff...|         In user interface...|            NULL|2024-12-31 20:00:08|       open|            0|        NULL|        1586.02|\n",
      "|2764758764|  opened|        NONE|Add linux builds ...|         It is incredibly ...|            NULL|2024-12-31 20:00:16|       open|            0|        NULL|        1586.02|\n",
      "|2764758769|  opened|      MEMBER|🛑 searx.cespedes...|         In [`0e8b012`](ht...|            NULL|2024-12-31 20:00:16|       open|            0|        NULL|        1586.02|\n",
      "|2761657545|reopened|        NONE|Mcprep crush on b...|         ### Did the issue...|            NULL|2024-12-28 05:08:19|       open|            5|    reopened|        1672.88|\n",
      "|2764758845|  opened|        NONE|Feature request: ...|         **Is your feature...|            NULL|2024-12-31 20:00:26|       open|            0|        NULL|        1586.02|\n",
      "|2764758857|  opened|       OWNER| 로딩 화면 폰트 작업|                         NULL|            NULL|2024-12-31 20:00:27|       open|            0|        NULL|        1586.02|\n",
      "|2764758862|  opened| CONTRIBUTOR|Compile for Pytho...|         When installing m...|            NULL|2024-12-31 20:00:28|       open|            0|        NULL|        1586.02|\n",
      "|2764758866|  opened|        NONE|Error on https://...|         # Error Info\\nErr...|            NULL|2024-12-31 20:00:28|       open|            0|        NULL|        1586.02|\n",
      "|2764758872|  opened| CONTRIBUTOR|game crash when C...|         ![image](https://...|            NULL|2024-12-31 20:00:30|       open|            0|        NULL|        1586.01|\n",
      "|2764758892|  opened|        NONE|Unable to load sy...|         # DataLoader Mism...|            NULL|2024-12-31 20:00:32|       open|            0|        NULL|        1586.01|\n",
      "|2764758932|  opened|       OWNER|🛑 Minecraft Serv...|         In [`b810c34`](ht...|            NULL|2024-12-31 20:00:39|       open|            0|        NULL|        1586.01|\n",
      "|2764758992|  opened|        NONE|              崩溃+1|装上就会崩溃, 版本是3.1.1x...|            NULL|2024-12-31 20:00:47|       open|            0|        NULL|        1586.01|\n",
      "|2764759035|  opened|        NONE|Add sources confi...|         Game settings isn...|            NULL|2024-12-31 20:00:55|       open|            0|        NULL|        1586.01|\n",
      "|2764759044|  opened|        NONE|ejected member st...|         ## Describe the b...|            NULL|2024-12-31 20:00:56|       open|            0|        NULL|        1586.01|\n",
      "|2764759050|  opened|        NONE|Stuck keys and me...|         * Experiencing st...|            NULL|2024-12-31 20:00:56|       open|            0|        NULL|        1586.01|\n",
      "+----------+--------+------------+--------------------+-----------------------------+----------------+-------------------+-----------+-------------+------------+---------------+\n",
      "only showing top 20 rows\n",
      "\n"
     ]
    }
   ],
   "source": [
    "spark.sql(\"\"\"\n",
    "    SELECT \n",
    "        issue.id AS issue_id,\n",
    "        action,\n",
    "        issue.author_association AS author_role,\n",
    "        issue.title AS issue_title,\n",
    "        issue.body AS issue_description,\n",
    "        CAST(issue.closed_at AS TIMESTAMP) AS closed_timestamp,\n",
    "        CAST(issue.created_at AS TIMESTAMP) AS created_timestamp,\n",
    "        issue.state AS issue_state,\n",
    "        issue.comments AS comment_count,\n",
    "        issue.state_reason,\n",
    "        \n",
    "        -- Convert created_at and closed_at to UNIX timestamps properly\n",
    "        ROUND(\n",
    "            (CASE \n",
    "                WHEN issue.closed_at IS NOT NULL \n",
    "                THEN unix_timestamp(CAST(issue.closed_at AS TIMESTAMP)) \n",
    "                     - unix_timestamp(CAST(issue.created_at AS TIMESTAMP))\n",
    "                ELSE unix_timestamp(current_timestamp()) \n",
    "                     - unix_timestamp(CAST(issue.created_at AS TIMESTAMP))\n",
    "            END) / 3600, 2\n",
    "        ) AS time_open_hours\n",
    "\n",
    "    FROM df\n",
    "          WHERE issue.state = 'open'\n",
    "          AND issue.created_at IS NOT NULL\n",
    "\"\"\").show()\n"
   ]
  },
  {
   "cell_type": "code",
   "execution_count": 22,
   "metadata": {},
   "outputs": [
    {
     "name": "stderr",
     "output_type": "stream",
     "text": [
      "[Stage 22:===================================================>    (22 + 2) / 24]\r"
     ]
    },
    {
     "name": "stdout",
     "output_type": "stream",
     "text": [
      "+----------+------+------------+--------------------+--------------------+-------------------+-------------------+-----------+------------+---------------+\n",
      "|  issue_id|action| author_role|         issue_title|   issue_description|   closed_timestamp|  created_timestamp|issue_state|state_reason|duplicate_count|\n",
      "+----------+------+------------+--------------------+--------------------+-------------------+-------------------+-----------+------------+---------------+\n",
      "| 175296384|closed| CONTRIBUTOR|JavaScript: destr...|When playing with...|2025-01-01 00:06:51|2016-09-06 12:49:17|     closed|   completed|              2|\n",
      "| 175296384|closed| CONTRIBUTOR|JavaScript: destr...|When playing with...|2025-01-01 00:06:51|2016-09-06 12:49:17|     closed|   completed|              2|\n",
      "| 360646678|closed|COLLABORATOR|setElementHealth ...|**Describe the bu...|2025-01-01 14:09:20|2018-09-16 10:53:51|     closed|   completed|              2|\n",
      "| 360646678|closed|COLLABORATOR|setElementHealth ...|**Describe the bu...|2025-01-01 14:09:20|2018-09-16 10:53:51|     closed|   completed|              2|\n",
      "| 545338804|closed|      MEMBER|setPedControlStat...|**Describe the bu...|2025-01-01 14:24:33|2020-01-04 17:13:08|     closed|   completed|              2|\n",
      "| 545338804|closed|      MEMBER|setPedControlStat...|**Describe the bu...|2025-01-01 14:24:33|2020-01-04 17:13:08|     closed|   completed|              2|\n",
      "| 566441372|closed|        NONE|When using templa...|\\r\\n\\r\\n<!-- NOTE...|2024-12-31 21:55:15|2020-02-17 12:40:45|     closed|   completed|              2|\n",
      "| 566441372|closed|        NONE|When using templa...|\\r\\n\\r\\n<!-- NOTE...|2024-12-31 21:55:15|2020-02-17 12:40:45|     closed|   completed|              2|\n",
      "| 924040629|closed|        NONE|No Spell Checker ...|![image](https://...|2024-12-31 21:17:03|2021-06-17 11:12:03|     closed|   completed|              2|\n",
      "| 924040629|closed|        NONE|No Spell Checker ...|![image](https://...|2024-12-31 21:17:03|2021-06-17 11:12:03|     closed|   completed|              2|\n",
      "|1284581381|closed|        NONE|[MD] Striker: fli...|As it turned out,...|2025-01-01 06:58:15|2022-06-25 08:54:38|     closed|   completed|              2|\n",
      "|1284581381|closed|        NONE|[MD] Striker: fli...|As it turned out,...|2025-01-01 06:58:15|2022-06-25 08:54:38|     closed|   completed|              2|\n",
      "|1315091004|closed|        NONE|Newsdownloader no...|* KOReader versio...|2025-01-01 06:25:33|2022-07-22 10:38:36|     closed|   completed|              2|\n",
      "|1315091004|closed|        NONE|Newsdownloader no...|* KOReader versio...|2025-01-01 06:25:33|2022-07-22 10:38:36|     closed|   completed|              2|\n",
      "|1412405179|closed|       OWNER|Add an option to ...|                NULL|2025-01-01 02:43:40|2022-10-17 20:31:47|     closed|   completed|              2|\n",
      "|1412405179|closed|       OWNER|Add an option to ...|                NULL|2025-01-01 02:43:40|2022-10-17 20:31:47|     closed|   completed|              2|\n",
      "|1453177100|closed|       OWNER|[Feature]: Improv...|### What feature ...|2025-01-01 14:11:46|2022-11-17 06:24:48|     closed|   completed|              2|\n",
      "|1453177100|closed|       OWNER|[Feature]: Improv...|### What feature ...|2025-01-01 14:11:46|2022-11-17 06:24:48|     closed|   completed|              2|\n",
      "|1530562265|closed|        NONE|Nested path depen...|This fails on 1.1...|2025-01-01 15:10:34|2023-01-12 06:37:01|     closed|   completed|              2|\n",
      "|1530562265|closed|        NONE|Nested path depen...|This fails on 1.1...|2025-01-01 15:10:34|2023-01-12 06:37:01|     closed|   completed|              2|\n",
      "+----------+------+------------+--------------------+--------------------+-------------------+-------------------+-----------+------------+---------------+\n",
      "only showing top 20 rows\n",
      "\n"
     ]
    },
    {
     "name": "stderr",
     "output_type": "stream",
     "text": [
      "                                                                                \r"
     ]
    }
   ],
   "source": [
    "spark.sql(\"\"\"\n",
    "    SELECT *\n",
    "    FROM (\n",
    "        SELECT \n",
    "            issue.id AS issue_id,\n",
    "            action,\n",
    "            issue.author_association AS author_role,\n",
    "            issue.title AS issue_title,\n",
    "            issue.body AS issue_description,\n",
    "            CAST(issue.closed_at AS TIMESTAMP) AS closed_timestamp,\n",
    "            CAST(issue.created_at AS TIMESTAMP) AS created_timestamp,\n",
    "            issue.state AS issue_state,\n",
    "            issue.state_reason,\n",
    "            \n",
    "            -- Count occurrences of the same record\n",
    "            COUNT(*) OVER (\n",
    "                PARTITION BY issue.id, action, issue.author_association, \n",
    "                issue.title, issue.body, issue.closed_at, \n",
    "                issue.created_at, issue.state, issue.state_reason\n",
    "            ) AS duplicate_count\n",
    "            \n",
    "        FROM df\n",
    "    )\n",
    "    WHERE duplicate_count > 1\n",
    "    ORDER BY issue_id, created_timestamp DESC\n",
    "\"\"\").show()\n"
   ]
  },
  {
   "cell_type": "code",
   "execution_count": 28,
   "metadata": {},
   "outputs": [
    {
     "name": "stderr",
     "output_type": "stream",
     "text": [
      "[Stage 61:==============================================>         (20 + 4) / 24]\r"
     ]
    },
    {
     "name": "stdout",
     "output_type": "stream",
     "text": [
      "+----------+--------+------------+----------------------------+--------------------+-------------------+-------------------+-----------+------------+----------+\n",
      "|  issue_id|  action| author_role|                 issue_title|   issue_description|   closed_timestamp|  created_timestamp|issue_state|state_reason|prev_state|\n",
      "+----------+--------+------------+----------------------------+--------------------+-------------------+-------------------+-----------+------------+----------+\n",
      "| 424486938|  closed|        NONE|        -readingOrder opt...|Hi,\\r\\n\\r\\nin the...|2025-01-01 02:55:22|2019-03-23 06:37:12|     closed| not_planned|    closed|\n",
      "| 465859330|  closed|      MEMBER|              Support Codacy|https://support.c...|2025-01-01 13:47:31|2019-07-09 11:50:51|     closed| not_planned|    closed|\n",
      "|1462633089|  closed|COLLABORATOR|        ADD bert-base-jap...|https://hakasenot...|2025-01-01 08:08:27|2022-11-23 20:39:23|     closed|   completed|    closed|\n",
      "|1524487483|  closed|COLLABORATOR|        Allow flat xml:id...|This issue reques...|2025-01-01 18:53:33|2023-01-08 07:26:20|     closed|   completed|    closed|\n",
      "|1637630325|  closed| CONTRIBUTOR|        Prevent cookies n...|Many people in th...|2024-12-31 20:33:48|2023-03-23 10:13:07|     closed|   completed|    closed|\n",
      "|1640994896|  closed|        NONE|        Custom shape libr...|* [x] I agree to ...|2025-01-01 06:43:08|2023-03-26 13:14:51|     closed| not_planned|    closed|\n",
      "|1724279765|  closed|        NONE|        Upgrade to AWS JS...|Today I started t...|2025-01-01 14:00:49|2023-05-24 11:37:58|     closed|   completed|    closed|\n",
      "|2011136763|  closed|        NONE|        Wrong error messa...|When you try to c...|2025-01-01 16:54:14|2023-11-26 12:57:24|     closed| not_planned|    closed|\n",
      "|2391953476|  closed|       OWNER|콘서트, 날짜, 좌석 조회 구현|                NULL|2025-01-01 10:23:26|2024-07-05 02:47:14|     closed|   completed|    closed|\n",
      "|2428909681|  closed|COLLABORATOR|        implement high te...|Generally speakin...|2025-01-01 16:32:21|2024-07-24 23:40:30|     closed|   completed|    closed|\n",
      "|2503458566|  closed|COLLABORATOR|        Large GoFile down...|Downloading a lar...|2025-01-01 05:12:13|2024-09-03 14:01:33|     closed|   completed|    closed|\n",
      "|2595341490|reopened|        NONE|        Security Policy v...|_This issue was a...|               NULL|2024-10-17 13:36:41|       open|    reopened|      open|\n",
      "|2595344192|  closed|        NONE|        Security Policy v...|_This issue was a...|2025-01-01 16:15:57|2024-10-17 13:38:18|     closed|   completed|    closed|\n",
      "|2595344192|  closed|        NONE|        Security Policy v...|_This issue was a...|2025-01-01 09:09:38|2024-10-17 13:38:18|     closed|   completed|    closed|\n",
      "|2595344192|reopened|        NONE|        Security Policy v...|_This issue was a...|               NULL|2024-10-17 13:38:18|       open|    reopened|      open|\n",
      "|2595344192|  closed|        NONE|        Security Policy v...|_This issue was a...|2024-12-31 23:08:50|2024-10-17 13:38:18|     closed|   completed|    closed|\n",
      "|2595344192|  closed|        NONE|        Security Policy v...|_This issue was a...|2025-01-01 18:16:13|2024-10-17 13:38:18|     closed|   completed|    closed|\n",
      "|2595344192|  closed|        NONE|        Security Policy v...|_This issue was a...|2025-01-01 06:13:37|2024-10-17 13:38:18|     closed|   completed|    closed|\n",
      "|2611956360|  closed|        NONE|        Err.Raise does no...|**Describe the bu...|2024-12-31 21:14:09|2024-10-24 11:35:20|     closed|   completed|    closed|\n",
      "|2612787706|  closed|        NONE|        BRP15B61 Zone tem...|Hi, is the BRP15B...|2025-01-01 15:53:18|2024-10-24 20:20:26|     closed| not_planned|    closed|\n",
      "+----------+--------+------------+----------------------------+--------------------+-------------------+-------------------+-----------+------------+----------+\n",
      "only showing top 20 rows\n",
      "\n"
     ]
    },
    {
     "name": "stderr",
     "output_type": "stream",
     "text": [
      "                                                                                \r"
     ]
    }
   ],
   "source": [
    "spark.sql(\"\"\"\n",
    "    WITH base_data AS (\n",
    "        -- Step 1: Select relevant columns from df (raw data)\n",
    "        SELECT \n",
    "            issue.id AS issue_id,\n",
    "            action,\n",
    "            issue.author_association AS author_role,\n",
    "            issue.title AS issue_title,\n",
    "            issue.body AS issue_description,\n",
    "            CAST(issue.closed_at AS TIMESTAMP) AS closed_timestamp,\n",
    "            CAST(issue.created_at AS TIMESTAMP) AS created_timestamp,\n",
    "            issue.state AS issue_state,\n",
    "            issue.state_reason\n",
    "        FROM df\n",
    "    ),\n",
    "\n",
    "    deduped_data AS (\n",
    "        -- Step 2: Remove exact duplicate rows (same issue, same event details)\n",
    "        SELECT DISTINCT * FROM base_data\n",
    "    ),\n",
    "\n",
    "    lagged_data AS (\n",
    "        -- Step 3: Use LAG() to get the previous state for each issue_id\n",
    "        SELECT *,\n",
    "            LAG(issue_state) OVER (PARTITION BY issue_id ORDER BY created_timestamp) AS prev_state\n",
    "        FROM deduped_data\n",
    "    ),\n",
    "\n",
    "    filtered_data AS (\n",
    "        -- Step 4: Filter redundant logs (ignore single-event issues)\n",
    "        SELECT *\n",
    "        FROM lagged_data\n",
    "        WHERE prev_state IS NOT NULL  -- Exclude single-event issues\n",
    "        AND issue_state = prev_state  -- Keep only redundant logs\n",
    "    )\n",
    "\n",
    "    -- Step 5: Return the cleaned redundant logs\n",
    "    SELECT * FROM filtered_data\n",
    "    ORDER BY issue_id, created_timestamp;\n",
    "\"\"\").show()\n"
   ]
  },
  {
   "cell_type": "code",
   "execution_count": 35,
   "metadata": {},
   "outputs": [
    {
     "name": "stderr",
     "output_type": "stream",
     "text": [
      "[Stage 92:=====================================================>  (23 + 1) / 24]\r"
     ]
    },
    {
     "name": "stdout",
     "output_type": "stream",
     "text": [
      "+---------+------+------------+--------------------+--------------------+-------------------+-------------------+-------------------+-----------+------------+----------+----------------+\n",
      "| issue_id|action| author_role|         issue_title|   issue_description|   closed_timestamp|  created_timestamp|  updated_timestamp|issue_state|state_reason|prev_state|is_redundant_log|\n",
      "+---------+------+------------+--------------------+--------------------+-------------------+-------------------+-------------------+-----------+------------+----------+----------------+\n",
      "| 46169398|closed| CONTRIBUTOR|           noise.png|The image noise.p...|2025-01-01 10:43:15|2014-10-18 05:53:48|2025-01-01 10:43:16|     closed|   completed|      NULL|               0|\n",
      "| 46826622|closed| CONTRIBUTOR|How `box` should ...|We need to come u...|2025-01-01 18:16:01|2014-10-25 19:22:26|2025-01-01 18:16:02|     closed|   completed|      NULL|               0|\n",
      "| 57766158|closed| CONTRIBUTOR|Design the Spyyn SPA|We need some spec...|2025-01-01 13:09:38|2015-02-16 00:21:38|2025-01-01 13:09:38|     closed|   completed|      NULL|               0|\n",
      "| 57766172|closed| CONTRIBUTOR|  get mongo involved|                NULL|2025-01-01 13:09:28|2015-02-16 00:21:56|2025-01-01 13:09:29|     closed|   completed|      NULL|               0|\n",
      "| 59011682|closed|        NONE|   I like it so far!|Really like where...|2025-01-01 13:09:24|2015-02-25 22:17:19|2025-01-01 13:09:24|     closed|   completed|      NULL|               0|\n",
      "| 61890754|closed| CONTRIBUTOR|Upload diagram of...|                NULL|2025-01-01 13:09:15|2015-03-15 16:02:46|2025-01-01 13:09:15|     closed|   completed|      NULL|               0|\n",
      "| 61896101|closed| CONTRIBUTOR|Move /SPA over to...|                NULL|2025-01-01 13:09:47|2015-03-15 16:39:42|2025-01-01 13:09:47|     closed|   completed|      NULL|               0|\n",
      "| 61907730|closed| CONTRIBUTOR|Get spa consuming...|                NULL|2025-01-01 13:09:09|2015-03-15 18:02:46|2025-01-01 13:09:09|     closed|   completed|      NULL|               0|\n",
      "| 71738277|closed|COLLABORATOR|Resource owner ad...|Could be very use...|2025-01-01 13:36:01|2015-04-28 19:44:57|2025-01-01 13:36:01|     closed|   completed|      NULL|               0|\n",
      "| 75964075|closed|        NONE|Mandatory variabl...|In trying to add ...|2025-01-01 11:38:15|2015-05-13 08:16:45|2025-01-01 11:38:15|     closed|   completed|      NULL|               0|\n",
      "|103982938|closed| CONTRIBUTOR|Disk screenshot f...|When you share on...|2025-01-01 08:31:15|2015-08-31 00:33:44|2025-01-01 08:31:16|     closed| not_planned|      NULL|               0|\n",
      "|125675678|closed| CONTRIBUTOR|  Metric vs Imperial|Can we get some n...|2025-01-01 07:20:58|2016-01-08 14:22:01|2025-01-01 07:20:58|     closed|   completed|      NULL|               0|\n",
      "|128099445|closed|       OWNER|Overloading resol...|                NULL|2025-01-01 14:13:09|2016-01-22 02:21:57|2025-01-01 14:13:09|     closed|   completed|      NULL|               0|\n",
      "|135159684|closed|        NONE|Make clear that p...|Since Backdrop do...|2025-01-01 01:47:09|2016-02-20 23:48:11|2025-01-01 01:47:10|     closed|   completed|      NULL|               0|\n",
      "|155339295|closed| CONTRIBUTOR|Consider adding t...|Cause usability a...|2025-01-01 07:16:21|2016-05-17 15:17:04|2025-01-01 07:16:22|     closed|   completed|      NULL|               0|\n",
      "|158189618|closed|       OWNER|Сделать модуль из...|                NULL|2025-01-01 12:06:08|2016-06-02 12:55:07|2025-01-01 12:06:08|     closed|   completed|      NULL|               0|\n",
      "|158438721|closed|        NONE|Multiple choosing...|Consider adding a...|2025-01-01 13:09:03|2016-06-03 15:33:27|2025-01-01 13:09:03|     closed|   completed|      NULL|               0|\n",
      "|158548162|closed|       OWNER|Дописать чтобы пр...|                NULL|2025-01-01 12:06:00|2016-06-05 06:34:40|2025-01-01 12:06:00|     closed|   completed|      NULL|               0|\n",
      "|161824292|closed|        NONE|versification_sys...|I've got caught o...|2025-01-01 11:38:08|2016-06-22 21:56:58|2025-01-01 11:38:08|     closed|   completed|      NULL|               0|\n",
      "|163503311|closed|        NONE|Layout UI : Allow...|I am importing a ...|2025-01-01 02:00:29|2016-07-02 01:34:18|2025-01-01 02:00:30|     closed|   completed|      NULL|               0|\n",
      "+---------+------+------------+--------------------+--------------------+-------------------+-------------------+-------------------+-----------+------------+----------+----------------+\n",
      "only showing top 20 rows\n",
      "\n"
     ]
    },
    {
     "name": "stderr",
     "output_type": "stream",
     "text": [
      "                                                                                \r"
     ]
    }
   ],
   "source": [
    "spark.sql(\"\"\"\n",
    "    WITH base_data AS (\n",
    "        -- Step 1: Extract relevant columns\n",
    "        SELECT \n",
    "            issue.id AS issue_id,\n",
    "            action,\n",
    "            issue.author_association AS author_role,\n",
    "            issue.title AS issue_title,\n",
    "            issue.body AS issue_description,\n",
    "            CAST(issue.closed_at AS TIMESTAMP) AS closed_timestamp,\n",
    "            CAST(issue.created_at AS TIMESTAMP) AS created_timestamp,\n",
    "            CAST(issue.updated_at AS TIMESTAMP) AS updated_timestamp,  -- Use updated_at to track event order\n",
    "            issue.state AS issue_state,\n",
    "            issue.state_reason\n",
    "        FROM df\n",
    "    ),\n",
    "\n",
    "    deduped_data AS (\n",
    "        -- Step 2: Remove exact duplicate rows\n",
    "        SELECT DISTINCT * FROM base_data\n",
    "    ),\n",
    "\n",
    "    lagged_data AS (\n",
    "        -- Step 3: Use LAG() with updated_at to track previous state\n",
    "        SELECT *,\n",
    "            LAG(issue_state) OVER (PARTITION BY issue_id ORDER BY updated_timestamp) AS prev_state,\n",
    "            \n",
    "            -- Flag whether the issue_state is the same as the previous one\n",
    "            CASE \n",
    "                WHEN issue_state = LAG(issue_state) OVER (PARTITION BY issue_id ORDER BY updated_timestamp) \n",
    "                THEN 1 ELSE 0 \n",
    "            END AS is_redundant_log\n",
    "\n",
    "        FROM deduped_data\n",
    "    )\n",
    "\n",
    "    -- Step 4: Show full history, including flagged redundant logs\n",
    "    SELECT * \n",
    "    FROM lagged_data\n",
    "    ORDER BY issue_id, updated_timestamp;\n",
    "\"\"\").show()\n"
   ]
  },
  {
   "cell_type": "code",
   "execution_count": 37,
   "metadata": {},
   "outputs": [
    {
     "name": "stderr",
     "output_type": "stream",
     "text": [
      "[Stage 104:====================================================>  (23 + 1) / 24]\r"
     ]
    },
    {
     "name": "stdout",
     "output_type": "stream",
     "text": [
      "+----------+------+------------+--------------------+--------------------+-------------------+-------------------+-------------------+-----------+----------+----------------+----------------------+\n",
      "|  issue_id|action| author_role|         issue_title|   issue_description|   closed_timestamp|  created_timestamp|  updated_timestamp|issue_state|prev_state|is_redundant_log|total_redundant_events|\n",
      "+----------+------+------------+--------------------+--------------------+-------------------+-------------------+-------------------+-----------+----------+----------------+----------------------+\n",
      "|2763306076|closed|        NONE|                   .|                NULL|2024-12-30 09:45:14|2024-12-30 09:43:51|2025-01-01 08:58:29|     closed|      NULL|               0|                    10|\n",
      "|2763306076|closed|        NONE|                   .|                NULL|2024-12-30 09:45:14|2024-12-30 09:43:51|2025-01-01 08:58:32|     closed|    closed|               1|                    10|\n",
      "|2763306076|closed|        NONE|                   .|                NULL|2024-12-30 09:45:14|2024-12-30 09:43:51|2025-01-01 08:58:35|     closed|    closed|               1|                    10|\n",
      "|2763306076|closed|        NONE|                   .|                NULL|2024-12-30 09:45:14|2024-12-30 09:43:51|2025-01-01 08:58:38|     closed|    closed|               1|                    10|\n",
      "|2763306076|closed|        NONE|                   .|                NULL|2024-12-30 09:45:14|2024-12-30 09:43:51|2025-01-01 08:58:41|     closed|    closed|               1|                    10|\n",
      "|2763306076|closed|        NONE|                   .|                NULL|2024-12-30 09:45:14|2024-12-30 09:43:51|2025-01-01 08:58:43|     closed|    closed|               1|                    10|\n",
      "|2763306076|closed|        NONE|                   .|                NULL|2024-12-30 09:45:14|2024-12-30 09:43:51|2025-01-01 08:58:46|     closed|    closed|               1|                    10|\n",
      "|2763306076|closed|        NONE|                   .|                NULL|2024-12-30 09:45:14|2024-12-30 09:43:51|2025-01-01 08:58:49|     closed|    closed|               1|                    10|\n",
      "|2763306076|closed|        NONE|                   .|                NULL|2024-12-30 09:45:14|2024-12-30 09:43:51|2025-01-01 08:58:53|     closed|    closed|               1|                    10|\n",
      "|2763306076|closed|        NONE|                   .|                NULL|2024-12-30 09:45:14|2024-12-30 09:43:51|2025-01-01 08:58:56|     closed|    closed|               1|                    10|\n",
      "|2763306076|closed|        NONE|                   .|                NULL|2024-12-30 09:45:14|2024-12-30 09:43:51|2025-01-01 08:58:58|     closed|    closed|               1|                    10|\n",
      "| 424486938|closed|        NONE|-readingOrder opt...|Hi,\\r\\n\\r\\nin the...|2025-01-01 02:55:22|2019-03-23 06:37:12|2025-01-01 02:55:22|     closed|      NULL|               0|                     1|\n",
      "| 424486938|closed|        NONE|-readingOrder opt...|Hi,\\r\\n\\r\\nin the...|2025-01-01 02:55:22|2019-03-23 06:37:12|2025-01-01 02:56:45|     closed|    closed|               1|                     1|\n",
      "| 465859330|closed|      MEMBER|      Support Codacy|https://support.c...|2025-01-01 13:47:31|2019-07-09 11:50:51|2025-01-01 13:47:31|     closed|      NULL|               0|                     1|\n",
      "| 465859330|closed|      MEMBER|      Support Codacy|https://support.c...|2025-01-01 13:47:31|2019-07-09 11:50:51|2025-01-01 13:47:34|     closed|    closed|               1|                     1|\n",
      "|1462633089|closed|COLLABORATOR|ADD bert-base-jap...|https://hakasenot...|2025-01-01 08:08:27|2022-11-23 20:39:23|2025-01-01 08:08:27|     closed|      NULL|               0|                     1|\n",
      "|1462633089|closed|COLLABORATOR|ADD bert-base-jap...|https://hakasenot...|2025-01-01 08:08:27|2022-11-23 20:39:23|2025-01-01 08:08:30|     closed|    closed|               1|                     1|\n",
      "|1637630325|closed| CONTRIBUTOR|Prevent cookies n...|Many people in th...|2024-12-31 20:33:48|2023-03-23 10:13:07|2024-12-31 20:33:48|     closed|      NULL|               0|                     1|\n",
      "|1637630325|closed| CONTRIBUTOR|Prevent cookies n...|Many people in th...|2024-12-31 20:33:48|2023-03-23 10:13:07|2024-12-31 20:33:58|     closed|    closed|               1|                     1|\n",
      "|1640994896|closed|        NONE|Custom shape libr...|* [x] I agree to ...|2025-01-01 06:43:08|2023-03-26 13:14:51|2025-01-01 06:43:08|     closed|      NULL|               0|                     1|\n",
      "+----------+------+------------+--------------------+--------------------+-------------------+-------------------+-------------------+-----------+----------+----------------+----------------------+\n",
      "only showing top 20 rows\n",
      "\n"
     ]
    },
    {
     "name": "stderr",
     "output_type": "stream",
     "text": [
      "                                                                                \r"
     ]
    }
   ],
   "source": [
    "spark.sql(\"\"\"\n",
    "    WITH base_data AS (\n",
    "        -- Step 1: Extract relevant columns\n",
    "        SELECT \n",
    "            issue.id AS issue_id,\n",
    "            action,\n",
    "            issue.author_association AS author_role,\n",
    "            issue.title AS issue_title,\n",
    "            issue.body AS issue_description,\n",
    "            CAST(issue.closed_at AS TIMESTAMP) AS closed_timestamp,\n",
    "            CAST(issue.created_at AS TIMESTAMP) AS created_timestamp,\n",
    "            CAST(issue.updated_at AS TIMESTAMP) AS updated_timestamp,  -- Use updated_at for event tracking\n",
    "            issue.state AS issue_state\n",
    "            -- issue.state_reason\n",
    "        FROM df\n",
    "    ),\n",
    "\n",
    "    deduped_data AS (\n",
    "        -- Step 2: Remove exact duplicate rows\n",
    "        SELECT DISTINCT * FROM base_data\n",
    "    ),\n",
    "\n",
    "    lagged_data AS (\n",
    "        -- Step 3: Use LAG() to detect redundant logs\n",
    "        SELECT *,\n",
    "            LAG(issue_state) OVER (PARTITION BY issue_id ORDER BY updated_timestamp) AS prev_state,\n",
    "            \n",
    "            -- Flag redundant logs where issue_state is the same as the last one\n",
    "            CASE \n",
    "                WHEN issue_state = LAG(issue_state) OVER (PARTITION BY issue_id ORDER BY updated_timestamp) \n",
    "                THEN 1 ELSE 0 \n",
    "            END AS is_redundant_log\n",
    "\n",
    "        FROM deduped_data\n",
    "    )\n",
    "\n",
    "    -- Step 4: Show full event history while tracking total redundant logs per issue\n",
    "    SELECT *,\n",
    "        SUM(is_redundant_log) OVER (PARTITION BY issue_id) AS total_redundant_events  -- Running total per issue\n",
    "    FROM lagged_data\n",
    "    ORDER BY total_redundant_events DESC, issue_id, updated_timestamp;\n",
    "\"\"\").show()\n"
   ]
  },
  {
   "cell_type": "code",
   "execution_count": null,
   "metadata": {},
   "outputs": [],
   "source": []
  }
 ],
 "metadata": {
  "kernelspec": {
   "display_name": "venv",
   "language": "python",
   "name": "python3"
  },
  "language_info": {
   "codemirror_mode": {
    "name": "ipython",
    "version": 3
   },
   "file_extension": ".py",
   "mimetype": "text/x-python",
   "name": "python",
   "nbconvert_exporter": "python",
   "pygments_lexer": "ipython3",
   "version": "3.12.3"
  }
 },
 "nbformat": 4,
 "nbformat_minor": 2
}
